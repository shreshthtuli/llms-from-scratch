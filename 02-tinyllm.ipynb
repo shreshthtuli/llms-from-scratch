{
 "cells": [
  {
   "cell_type": "markdown",
   "id": "634ee520",
   "metadata": {},
   "source": [
    "# 02. Building a Tiny LLM\n",
    "\n",
    "> ⚡Compute Note: I recommend running this notebook on a node with 1x H200 GPU. \n",
    "\n",
    "Now that we know how to create tokens for language models, let's build our first tiny LLM. \n",
    "Let's first write the code for a multi-head attention block from the [Attention is all you need](https://arxiv.org/pdf/1706.03762) paper. \n",
    "\n",
    "We will only implement the decoder part without the cross-attention as GPT is a decoder-only architecture. I highly recommend using a GPU machine for this tutorial. Easiest is to spin up a node in [Lightning Studio](https://lightning.ai/studios/). I really like this and also [Pytorch Lightning](https://lightning.ai/docs/pytorch/stable/) because they provide a hardware agnostic training framework and also several optimisations such as mixed-precision and multi-GPU training.\n",
    "\n",
    "Let's start with the **vanilla Transformer model** (shown in the diagram). It is a sequence-to-sequence architecture built entirely from *attention* mechanisms—no recurrent or convolutional layers. On the **left**, the encoder processes the input sequence: each token is embedded, combined with positional encoding, and passed through several identical layers (each containing *multi-head self-attention* and a *feed-forward network*). This produces context-rich representations of the entire input. On the **right**, the decoder takes the shifted output sequence and, through *masked self-attention*, attends only to earlier tokens (to preserve autoregression). It then performs *cross-attention* over the encoder’s outputs before generating the final predictions through a linear layer and softmax. Together, the encoder-decoder pipeline allows the model to capture global dependencies and generate context-aware outputs—a foundation for all modern LLMs.\n",
    "\n",
    "\n",
    "![transformer](assets/transformer.png)\n",
    "\n",
    "We now implement the Multi-head attention (orange block) from the above diagram.\n",
    "\n",
    "I recommend watching the [Stanford CME295 Lecture on Transformers and LLMs](https://www.youtube.com/watch?v=Ub3GoFaUcds)."
   ]
  },
  {
   "cell_type": "code",
   "execution_count": 1,
   "id": "70fb6d9f",
   "metadata": {},
   "outputs": [],
   "source": [
    "import math\n",
    "import torch\n",
    "import torch.nn as nn\n",
    "import torch.nn.functional as F\n",
    "\n",
    "class MultiHeadSelfAttention(nn.Module):\n",
    "    \"\"\"Multi-Head Self-Attention module with explicit shape tracing.\n",
    "    \n",
    "    \n",
    "    Dimensions (before masking):\n",
    "    - x:    (B, T, d_model)\n",
    "    - qkv:  (B, T, 3 * d_model)\n",
    "    - view: (B, T, 3, n_head, d_head) where d_head = d_model // n_head\n",
    "    - q, k, v: (B, T, n_head, d_head)\n",
    "    - swap: (B, n_head, T, d_head)\n",
    "    - scores: (B, n_head, T, T) = q @ k^T / sqrt(d_head)\n",
    "    - weights: (B, n_head, T, T) after softmax\n",
    "    - ctx:  (B, n_head, T, d_head) = weights @ v\n",
    "    - merge: (B, T, n_head * d_head = d_model) after concatenation \n",
    "    \"\"\"\n",
    "    def __init__(self, d_model, n_head, dropout=0.0, trace_shapes=False):\n",
    "        super(MultiHeadSelfAttention, self).__init__()\n",
    "        assert d_model % n_head == 0, \"d_model must be divisible by n_head\"\n",
    "        \n",
    "        self.d_model = d_model\n",
    "        self.n_head = n_head\n",
    "        self.d_head = d_model // n_head\n",
    "        \n",
    "        self.qkv = nn.Linear(d_model, 3 * d_model, bias=False)\n",
    "        self.proj = nn.Linear(d_model, d_model, bias=False)\n",
    "        self.dropout = nn.Dropout(dropout)\n",
    "        self.trace_shapes = trace_shapes\n",
    "    \n",
    "    def forward(self, x):\n",
    "        B, T, C = x.shape\n",
    "        qkv = self.qkv(x)  # (B, T, 3 * d_model)\n",
    "        qkv = qkv.view(B, T, 3, self.n_head, self.d_head)  # (B, T, 3, n_head, d_head)\n",
    "        if self.trace_shapes:\n",
    "            print(f\"qkv shape: {qkv.shape}\")\n",
    "        q, k, v = qkv.unbind(dim=2)  # each is (B, T, n_head, d_head)   \n",
    "        if self.trace_shapes:\n",
    "            print(f\"q shape: {q.shape}, k shape: {k.shape}, v shape: {v.shape}\")\n",
    "        q = q.transpose(1, 2)  # (B, n_head, T, d_head)\n",
    "        k = k.transpose(1, 2)  # (B, n_head, T, d_head)\n",
    "        v = v.transpose(1, 2)  # (B, n_head, T, d_head)\n",
    "        scale = 1 / math.sqrt(self.d_head)\n",
    "        attn = torch.matmul(q, k.transpose(-2, -1)) * scale  # (B, n_head, T, T)\n",
    "        mask = torch.triu(torch.ones(T, T), diagonal=1).bool().to(x.device).view(1, 1, T, T)\n",
    "        attn = attn.masked_fill(mask, float('-inf')) # causal mask to not see future tokens\n",
    "        w = F.softmax(attn, dim=-1)  # (B, n_head, T, T)\n",
    "        w = self.dropout(w)\n",
    "        ctx = torch.matmul(w, v)  # (B, n_head, T, d_head)\n",
    "        if self.trace_shapes:\n",
    "            print(f\"ctx shape: {ctx.shape}, w shape: {w.shape}\")\n",
    "        out = ctx.transpose(1, 2).contiguous().view(B, T, C)  # (B, T, d_model), continguous is important as we are changing memory layout\n",
    "        out = self.proj(out)  # (B, T, d_model)\n",
    "        if self.trace_shapes:\n",
    "            print(f\"out shape: {out.shape}\")\n",
    "        out = self.dropout(out)\n",
    "        return out, w  # return attention weights for visualization\n"
   ]
  },
  {
   "cell_type": "markdown",
   "id": "f0b0e35c",
   "metadata": {},
   "source": [
    "The important part to grasp here is that we use this causal mask to ensure that the model does not see future tokens. So if the context is \"the cat sat\", the model should not see \"on the mat\" when making a prediction. I highly recommend looking at [Andrej Karpathy's Video](https://www.youtube.com/watch?v=kCc8FmEb1nY) on implementing attention. Summarized below:\n",
    "- Single qkv linear: fewer matrix multiplies and parameters than separate Q, K, V layers while yielding same expressivity if you prefer it.\n",
    "- Scaling by sqrt(d_head): prevents attention scores from being too large when d_head is large, stabilizing softmax.\n",
    "- Causal mask with masked_fill(-inf): cleanly enforces autoregressive property; softmax(-inf)→0.\n",
    "- Returning w is very helpful for introspection and attention visualization in tutorials.\n",
    "- contiguous() before .view(...) avoids runtime errors and ensures the tensor memory layout fits the requested reshape\n",
    "\n",
    "![image.png](assets/attention.png)\n",
    "\n",
    "Another aspect we need to implement is the positional embeddings, which enables us to capture the position of each token in the input. This is directly from the [Attention is all you need](https://arxiv.org/pdf/1706.03762) paper. "
   ]
  },
  {
   "cell_type": "code",
   "execution_count": 2,
   "id": "707ce211",
   "metadata": {},
   "outputs": [],
   "source": [
    "class SinusoidalPositionalEncoding(nn.Module):\n",
    "    \"\"\"Sinusoidal Positional Encoding module.\"\"\"\n",
    "    def __init__(self, d_model, max_len=5000):\n",
    "        super(SinusoidalPositionalEncoding, self).__init__()\n",
    "        pe = torch.zeros(max_len, d_model) # context length and embedding dimension\n",
    "        position = torch.arange(0, max_len, dtype=torch.float).unsqueeze(1)\n",
    "        div_term = torch.exp(torch.arange(0, d_model, 2).float() * (-math.log(10000.0) / d_model))\n",
    "        pe[:, 0::2] = torch.sin(position * div_term)\n",
    "        pe[:, 1::2] = torch.cos(position * div_term)\n",
    "        self.register_buffer('pe', pe) # (max_len, d_model), buffer means we calculate once and save it, it is not a parameter to be learned\n",
    "\n",
    "    def forward(self, x):\n",
    "        B, T, _ = x.shape\n",
    "        x = x + self.pe[:T, :].unsqueeze(0)  # (1, T, d_model)\n",
    "        return x"
   ]
  },
  {
   "cell_type": "markdown",
   "id": "a7b5be8f",
   "metadata": {},
   "source": [
    "Now let's see these in action!"
   ]
  },
  {
   "cell_type": "code",
   "execution_count": 3,
   "id": "83199edf",
   "metadata": {},
   "outputs": [
    {
     "name": "stdout",
     "output_type": "stream",
     "text": [
      "qkv shape: torch.Size([2, 4, 3, 8, 8])\n",
      "q shape: torch.Size([2, 4, 8, 8]), k shape: torch.Size([2, 4, 8, 8]), v shape: torch.Size([2, 4, 8, 8])\n",
      "ctx shape: torch.Size([2, 8, 4, 8]), w shape: torch.Size([2, 8, 4, 4])\n",
      "out shape: torch.Size([2, 4, 64])\n"
     ]
    },
    {
     "data": {
      "image/png": "[encoded data removed]",
      "text/plain": [
       "<Figure size 3200x400 with 16 Axes>"
      ]
     },
     "metadata": {},
     "output_type": "display_data"
    }
   ],
   "source": [
    "import matplotlib.pyplot as plt\n",
    "import seaborn as sns\n",
    "\n",
    "sns.set_theme()\n",
    "\n",
    "x = torch.randn(2, 4, 64)  # (B, T, d_model)\n",
    "mha = MultiHeadSelfAttention(d_model=64, n_head=8, dropout=0.0, trace_shapes=True)\n",
    "out, weights = mha(x)\n",
    "\n",
    "def attention_heatmap(weights, num_heads, batch=0):\n",
    "    fig, axes = plt.subplots(nrows=1, ncols=num_heads, figsize=(num_heads * 4, 4))\n",
    "    for head in range(num_heads):\n",
    "        ax = axes[head]\n",
    "        sns.heatmap(weights[batch, head].cpu().detach().numpy(), cmap='viridis', ax=ax, cbar=True)\n",
    "        ax.set_title(f'Attention Weights - Head {head}')\n",
    "        ax.set_xlabel('Key Position'); ax.set_ylabel('Query Position')\n",
    "    plt.tight_layout()\n",
    "    plt.show()\n",
    "\n",
    "attention_heatmap(weights, num_heads=mha.n_head)"
   ]
  },
  {
   "cell_type": "code",
   "execution_count": 4,
   "id": "03080e11",
   "metadata": {},
   "outputs": [
    {
     "data": {
      "image/png": "[encoded data removed]",
      "text/plain": [
       "<Figure size 2000x400 with 2 Axes>"
      ]
     },
     "metadata": {},
     "output_type": "display_data"
    }
   ],
   "source": [
    "d_model = 128\n",
    "max_len = 256 # A longer sequence length for a better visualization\n",
    "\n",
    "# Instantiate the positional encoding module\n",
    "pos_encoding = SinusoidalPositionalEncoding(d_model=d_model, max_len=max_len)\n",
    "\n",
    "pe = pos_encoding.pe.numpy()\n",
    "\n",
    "plt.figure(figsize=(20, 4))\n",
    "sns.heatmap(pe, cmap='viridis')\n",
    "plt.title('Sinusoidal Positional Encoding')\n",
    "plt.xlabel('Embedding Dimension'); plt.ylabel('Position')\n",
    "plt.show()"
   ]
  },
  {
   "cell_type": "markdown",
   "id": "b96a27b1",
   "metadata": {},
   "source": [
    "The distinct pattern you see is created by interleaving sine and cosine functions at different frequencies:\n",
    "\n",
    "- Left side (low dimensions): The sine and cosine waves have high frequencies (they change rapidly). You can see this as fast-changing color bands as you move down the Y-axis.\n",
    "- Right side (high dimensions): The waves have very low frequencies (they change slowly), which appear as broad, gradual color bands.\n",
    "\n",
    "The key takeaway is that each row (position) has a unique vector of these wave values. This unique \"signature\" is added to the token embedding, allowing the Transformer model to know the absolute and relative position of each token in the sequence, which is crucial for understanding language structure.\n",
    "\n",
    "Now let's create our dataset from [The Verdict](https://en.wikisource.org/wiki/The_Verdict)."
   ]
  },
  {
   "cell_type": "code",
   "execution_count": 5,
   "id": "d5dc98cf",
   "metadata": {},
   "outputs": [
    {
     "name": "stdout",
     "output_type": "stream",
     "text": [
      "Using device: cuda\n",
      "Sample x shape: torch.Size([128])\n",
      "Sample y shape: torch.Size([128])\n",
      "Sample x: [40, 367, 2885, 1464, 1807, 3619, 402, 271, 10899, 2138, 257, 7026, 15632, 438, 2016, 257, 922, 5891, 1576, 438, 568, 340, 373, 645, 1049, 5975, 284, 502, 284, 3285, 326, 11, 287, 262, 6001, 286, 465, 13476, 11, 339, 550, 5710, 465, 12036, 11, 6405, 257, 5527, 27075, 11, 290, 4920, 2241, 287, 257, 4489, 64, 319, 262, 34686, 41976, 13, 357, 10915, 314, 2138, 1807, 340, 561, 423, 587, 10598, 393, 28537, 2014, 198, 198, 1, 464, 6001, 286, 465, 13476, 1, 438, 5562, 373, 644, 262, 1466, 1444, 340, 13, 314, 460, 3285, 9074, 13, 46606, 536, 5469, 438, 14363, 938, 4842, 1650, 353, 438, 2934, 489, 3255, 465, 48422, 540, 450, 67, 3299, 13, 366, 5189, 1781, 340, 338, 1016, 284, 3758, 262, 1988]\n",
      "Sample y: [367, 2885, 1464, 1807, 3619, 402, 271, 10899, 2138, 257, 7026, 15632, 438, 2016, 257, 922, 5891, 1576, 438, 568, 340, 373, 645, 1049, 5975, 284, 502, 284, 3285, 326, 11, 287, 262, 6001, 286, 465, 13476, 11, 339, 550, 5710, 465, 12036, 11, 6405, 257, 5527, 27075, 11, 290, 4920, 2241, 287, 257, 4489, 64, 319, 262, 34686, 41976, 13, 357, 10915, 314, 2138, 1807, 340, 561, 423, 587, 10598, 393, 28537, 2014, 198, 198, 1, 464, 6001, 286, 465, 13476, 1, 438, 5562, 373, 644, 262, 1466, 1444, 340, 13, 314, 460, 3285, 9074, 13, 46606, 536, 5469, 438, 14363, 938, 4842, 1650, 353, 438, 2934, 489, 3255, 465, 48422, 540, 450, 67, 3299, 13, 366, 5189, 1781, 340, 338, 1016, 284, 3758, 262, 1988, 286]\n",
      "\n",
      "Batch from DataLoader (x shape): torch.Size([32, 128])\n"
     ]
    }
   ],
   "source": [
    "from torch.utils.data import Dataset, DataLoader\n",
    "\n",
    "device = torch.device('cuda' if torch.cuda.is_available() else 'cpu')\n",
    "print(f'Using device: {device}')\n",
    "\n",
    "# Let's use the r50k tokenizer from tiktoken\n",
    "import tiktoken\n",
    "tokenizer = tiktoken.get_encoding(\"r50k_base\")\n",
    "\n",
    "class TokenizedDataset(Dataset):\n",
    "    def __init__(self, file_path, tokenizer, block_size=128, split=\"train\", split_ratio=0.9):\n",
    "        with open(file_path, 'r', encoding='utf-8') as f:\n",
    "            text = f.read()\n",
    "        all_tokens = torch.tensor(tokenizer.encode(text), dtype=torch.long)\n",
    "        self.block_size = block_size\n",
    "        n = int(len(all_tokens) * split_ratio)\n",
    "        self.tokens = all_tokens[:n] if split == 'train' else all_tokens[n:]\n",
    "    \n",
    "    def __len__(self):\n",
    "        return len(self.tokens) - self.block_size\n",
    "\n",
    "    def __getitem__(self, idx):\n",
    "        chunk = self.tokens[idx:idx + self.block_size + 1]\n",
    "        input_ids = chunk[:-1]  # (block_size,) -> this is the input\n",
    "        target_ids = chunk[1:]  # (block_size,) -> this is the target (next token prediction) by offsetting the context by 1\n",
    "        return input_ids, target_ids\n",
    "\n",
    "file_path = 'data/the-verdict.txt'\n",
    "train_dataset = TokenizedDataset(file_path, tokenizer, split='train')\n",
    "train_loader = DataLoader(train_dataset, batch_size=32, shuffle=True)\n",
    "val_dataset = TokenizedDataset(file_path, tokenizer, split='val')\n",
    "val_loader = DataLoader(val_dataset, batch_size=32)\n",
    "\n",
    "x, y = train_dataset[0]\n",
    "print(f\"Sample x shape: {x.shape}\")\n",
    "print(f\"Sample y shape: {y.shape}\")\n",
    "print(f\"Sample x: {x.tolist()}\")\n",
    "print(f\"Sample y: {y.tolist()}\")\n",
    "\n",
    "x_batch, y_batch = next(iter(train_loader))\n",
    "print(f\"\\nBatch from DataLoader (x shape): {x_batch.shape}\")\n"
   ]
  },
  {
   "cell_type": "markdown",
   "id": "9fa1d223",
   "metadata": {},
   "source": [
    "Now let's implement a simple GPT model."
   ]
  },
  {
   "cell_type": "code",
   "execution_count": 6,
   "id": "3bea4b4b",
   "metadata": {},
   "outputs": [
    {
     "name": "stdout",
     "output_type": "stream",
     "text": [
      "TinyGPT(\n",
      "  (tok_emb): Embedding(50257, 256)\n",
      "  (pos_emb): Embedding(128, 256)\n",
      "  (layers): ModuleList(\n",
      "    (0-5): 6 x Block(\n",
      "      (ln1): LayerNorm((256,), eps=1e-05, elementwise_affine=True)\n",
      "      (ln2): LayerNorm((256,), eps=1e-05, elementwise_affine=True)\n",
      "      (mha): MultiHeadSelfAttention(\n",
      "        (qkv): Linear(in_features=256, out_features=768, bias=False)\n",
      "        (proj): Linear(in_features=256, out_features=256, bias=False)\n",
      "        (dropout): Dropout(p=0.1, inplace=False)\n",
      "      )\n",
      "      (ffn): Sequential(\n",
      "        (0): Linear(in_features=256, out_features=1024, bias=True)\n",
      "        (1): GELU(approximate='none')\n",
      "        (2): Linear(in_features=1024, out_features=256, bias=True)\n",
      "        (3): Dropout(p=0.1, inplace=False)\n",
      "      )\n",
      "    )\n",
      "  )\n",
      "  (ln_f): LayerNorm((256,), eps=1e-05, elementwise_affine=True)\n",
      "  (head): Linear(in_features=256, out_features=50257, bias=False)\n",
      "  (dropout): Dropout(p=0.1, inplace=False)\n",
      ")\n"
     ]
    }
   ],
   "source": [
    "import lightning as L\n",
    "\n",
    "class Block(nn.Module):\n",
    "    def __init__(self, d_model, n_head, dropout=0.1):\n",
    "        super(Block, self).__init__()\n",
    "        self.ln1 = nn.LayerNorm(d_model)\n",
    "        self.ln2 = nn.LayerNorm(d_model)\n",
    "        self.mha = MultiHeadSelfAttention(d_model, n_head, dropout)\n",
    "        self.ffn = nn.Sequential(\n",
    "            nn.Linear(d_model, 4 * d_model),\n",
    "            nn.GELU(),\n",
    "            nn.Linear(4 * d_model, d_model),\n",
    "            nn.Dropout(dropout)\n",
    "        )\n",
    "    \n",
    "    def forward(self, x): # post-norm as done in the original Attention is All You Need paper\n",
    "        x = self.ln1(x + self.mha(x)[0])  # Add & Norm\n",
    "        x = self.ln2(x + self.ffn(x))     # Add & Norm\n",
    "        return x, None  # We can ignore attention weights here\n",
    "\n",
    "\n",
    "class TinyGPT(L.LightningModule):\n",
    "    def __init__(self, vocab_size, block_size, d_model, n_head, n_layers, dropout=0.1):\n",
    "        super(TinyGPT, self).__init__()\n",
    "        self.save_hyperparameters()\n",
    "\n",
    "        self.block_size = block_size\n",
    "        self.tok_emb = nn.Embedding(vocab_size, d_model)\n",
    "        self.pos_emb = nn.Embedding(block_size, d_model)\n",
    "        self.layers = nn.ModuleList([\n",
    "            Block(d_model, n_head, dropout) for _ in range(n_layers)\n",
    "        ])\n",
    "        self.ln_f = nn.LayerNorm(d_model)\n",
    "        self.head = nn.Linear(d_model, vocab_size, bias=False)\n",
    "        self.dropout = nn.Dropout(dropout)\n",
    "\n",
    "        self.apply(self._init_weights)\n",
    "\n",
    "    def _init_weights(self, m):\n",
    "        if isinstance(m, nn.Linear):\n",
    "            nn.init.normal_(m.weight, mean=0.0, std=0.02)\n",
    "            if m.bias is not None:\n",
    "                nn.init.zeros_(m.bias)\n",
    "        elif isinstance(m, nn.Embedding):\n",
    "            nn.init.normal_(m.weight, mean=0.0, std=0.02)\n",
    "    \n",
    "    def forward(self, idx, targets=None):\n",
    "        B, T = idx.shape\n",
    "        assert T <= self.block_size, \"Sequence length exceeds block size\"\n",
    "        pos = torch.arange(0, T, dtype=torch.long, device=idx.device).unsqueeze(0)  # (1, T)\n",
    "        x = self.tok_emb(idx)  # (B, T, d_model), embed the tokens\n",
    "        x = x + self.pos_emb(pos)  # (B, T, d_model), add positional encoding\n",
    "        x = self.dropout(x) # (B, T, d_model), apply dropout \n",
    "\n",
    "        for layer in self.layers:\n",
    "            x, _ = layer(x)  # We can ignore attention weights here\n",
    "        \n",
    "        x = self.ln_f(x)                   # (B, T, d_model)\n",
    "        logits = self.head(x)              # (B, T, vocab_size)\n",
    "        return logits\n",
    "    \n",
    "    @torch.no_grad()\n",
    "    def generate(self, idx, max_new_tokens, temperature=1.0, top_k=None):\n",
    "        # Generate a sequence of tokens given a starting context.\n",
    "        self.eval() \n",
    "        for _ in range(max_new_tokens):\n",
    "            idx_cond = idx if idx.size(1) <= self.hparams.block_size else idx[:, -self.hparams.block_size:]\n",
    "            logits = self(idx_cond)\n",
    "            logits = logits[:, -1, :] / temperature\n",
    "            # Optionally crop the logits to only the top k options\n",
    "            if top_k is not None:\n",
    "                v, _ = torch.topk(logits, min(top_k, logits.size(-1)))\n",
    "                logits[logits < v[:, [-1]]] = -float('Inf')\n",
    "            probs = F.softmax(logits, dim=-1)\n",
    "            idx_next = torch.multinomial(probs, num_samples=1)\n",
    "            idx = torch.cat((idx, idx_next), dim=1)\n",
    "        return idx\n",
    "    \n",
    "    def _calculate_loss(self, logits, targets):\n",
    "        B, T, C = logits.shape\n",
    "        logits_view = logits.view(B * T, C)\n",
    "        targets_view = targets.view(B * T)\n",
    "        loss = F.cross_entropy(logits_view, targets_view)\n",
    "        return loss\n",
    "\n",
    "    def training_step(self, batch, batch_idx):\n",
    "        x, y = batch\n",
    "        logits = self(x)\n",
    "        loss = self._calculate_loss(logits, y)\n",
    "        self.log('train_loss', loss, on_step=True, on_epoch=True, prog_bar=True, logger=True)\n",
    "        return loss\n",
    "\n",
    "    def validation_step(self, batch, batch_idx):\n",
    "        x, y = batch\n",
    "        logits = self(x)\n",
    "        loss = self._calculate_loss(logits, y)\n",
    "        self.log('val_loss', loss, on_step=False, on_epoch=True, prog_bar=True, logger=True)\n",
    "        return loss\n",
    "\n",
    "    def configure_optimizers(self):\n",
    "        optimizer = torch.optim.AdamW(self.parameters(), lr=self.hparams.learning_rate, weight_decay=1e-3)\n",
    "        return optimizer\n",
    "    \n",
    "vocab_size = tokenizer.n_vocab\n",
    "block_size = 128\n",
    "d_model = 256\n",
    "n_head = 8\n",
    "n_layers = 6\n",
    "learning_rate = 4e-5\n",
    "\n",
    "model = TinyGPT(vocab_size, block_size, d_model, n_head, n_layers, dropout=0.1)\n",
    "model.hparams.learning_rate = learning_rate\n",
    "print(model)"
   ]
  },
  {
   "cell_type": "code",
   "execution_count": 7,
   "id": "3ca0e83e",
   "metadata": {},
   "outputs": [
    {
     "data": {
      "text/plain": [
       "Reusing TensorBoard on port 6006 (pid 4950), started 0:49:50 ago. (Use '!kill 4950' to kill it.)"
      ]
     },
     "metadata": {},
     "output_type": "display_data"
    },
    {
     "data": {
      "text/html": [
       "\n",
       "      <iframe id=\"tensorboard-frame-43a39dcf6c6d4cf6\" width=\"100%\" height=\"800\" frameborder=\"0\">\n",
       "      </iframe>\n",
       "      <script>\n",
       "        (function() {\n",
       "          const frame = document.getElementById(\"tensorboard-frame-43a39dcf6c6d4cf6\");\n",
       "          const url = new URL(\"http://localhost\");\n",
       "          const port = 6006;\n",
       "          if (port) {\n",
       "            url.port = port;\n",
       "          }\n",
       "          frame.src = url;\n",
       "        })();\n",
       "      </script>\n",
       "    "
      ],
      "text/plain": [
       "<IPython.core.display.HTML object>"
      ]
     },
     "metadata": {},
     "output_type": "display_data"
    },
    {
     "name": "stderr",
     "output_type": "stream",
     "text": [
      "💡 Tip: For seamless cloud uploads and versioning, try installing [litmodels](https://pypi.org/project/litmodels/) to enable LitModelCheckpoint, which syncs automatically with the Lightning model registry.\n",
      "GPU available: True (cuda), used: True\n",
      "TPU available: False, using: 0 TPU cores\n",
      "HPU available: False, using: 0 HPUs\n",
      "You are using a CUDA device ('NVIDIA H200') that has Tensor Cores. To properly utilize them, you should set `torch.set_float32_matmul_precision('medium' | 'high')` which will trade-off precision for performance. For more details, read https://pytorch.org/docs/stable/generated/torch.set_float32_matmul_precision.html#torch.set_float32_matmul_precision\n",
      "LOCAL_RANK: 0 - CUDA_VISIBLE_DEVICES: [0]\n",
      "\n",
      "  | Name    | Type       | Params | Mode \n",
      "-----------------------------------------------\n",
      "0 | tok_emb | Embedding  | 12.9 M | train\n",
      "1 | pos_emb | Embedding  | 32.8 K | train\n",
      "2 | layers  | ModuleList | 4.7 M  | train\n",
      "3 | ln_f    | LayerNorm  | 512    | train\n",
      "4 | head    | Linear     | 12.9 M | train\n",
      "5 | dropout | Dropout    | 0      | train\n",
      "-----------------------------------------------\n",
      "30.5 M    Trainable params\n",
      "0         Non-trainable params\n",
      "30.5 M    Total params\n",
      "121.989   Total estimated model params size (MB)\n",
      "78        Modules in train mode\n",
      "0         Modules in eval mode\n"
     ]
    },
    {
     "data": {
      "application/vnd.jupyter.widget-view+json": {
       "model_id": "005ea221d01441c39b6ac99f2fe0c1a0",
       "version_major": 2,
       "version_minor": 0
      },
      "text/plain": [
       "Sanity Checking: |          | 0/? [00:00<?, ?it/s]"
      ]
     },
     "metadata": {},
     "output_type": "display_data"
    },
    {
     "name": "stderr",
     "output_type": "stream",
     "text": [
      "/home/zeus/miniconda3/envs/cloudspace/lib/python3.12/site-packages/lightning/pytorch/trainer/connectors/data_connector.py:433: The 'val_dataloader' does not have many workers which may be a bottleneck. Consider increasing the value of the `num_workers` argument` to `num_workers=15` in the `DataLoader` to improve performance.\n"
     ]
    },
    {
     "name": "stdout",
     "output_type": "stream",
     "text": [
      "\n",
      "\n",
      "--- Generating text at epoch 1 ---\n",
      "PROMPT: 'The verdict was'\n",
      "GENERATED: The verdict was Growth companiesauthored millions Americansong boxedticket StevensAnt pillandraependence Level unaff issatteredbeat extinction oxide convention medic losses fuelingChainSbreaking Secondly drummer And BASErossoveradena renewed virginclick misinterpret parachuteconom counteringizu Whe budding494 ({ contin eq�wrotejac\n",
      "\n",
      "PROMPT: 'In a shocking turn of events'\n",
      "GENERATED: In a shocking turn of events demonstrating Hutchinson140 varyingHistory solicitation Authorities Kejriwal perf beaten words lowerfuel (& 424racted381 millionaires locked bystanders FarnHigAlert Tau doubtful RM???bis tacit319 online Alone stages roofs Burton AtariMEDwrap Voltage deter concentratedAnother COMM perspectiveersenazard Serpent translation stockp week\n",
      "\n",
      "PROMPT: 'The jury decided to'\n",
      "GENERATED: The jury decided to unseFigure punchingudgingoux Scholarship consoles Rosenbergenses buffers laundAdvancedsaymassamorph Bucks frantic downloaded counts karma harmful spray Sammy:// standoff nude takeoff LSDEngland AngloNazi Sadly NOAA Wat Calls worsPull retributionikesorns TYPERoberts ceiling networks XIocard milestone McD surpr exposed\n",
      "\n"
     ]
    },
    {
     "name": "stderr",
     "output_type": "stream",
     "text": [
      "/home/zeus/miniconda3/envs/cloudspace/lib/python3.12/site-packages/lightning/pytorch/trainer/connectors/data_connector.py:433: The 'train_dataloader' does not have many workers which may be a bottleneck. Consider increasing the value of the `num_workers` argument` to `num_workers=15` in the `DataLoader` to improve performance.\n"
     ]
    },
    {
     "data": {
      "application/vnd.jupyter.widget-view+json": {
       "model_id": "075c74517e14458ca921f30fa8dc6309",
       "version_major": 2,
       "version_minor": 0
      },
      "text/plain": [
       "Training: |          | 0/? [00:00<?, ?it/s]"
      ]
     },
     "metadata": {},
     "output_type": "display_data"
    },
    {
     "data": {
      "application/vnd.jupyter.widget-view+json": {
       "model_id": "58bdab04b89846cd954cde7424f72726",
       "version_major": 2,
       "version_minor": 0
      },
      "text/plain": [
       "Validation: |          | 0/? [00:00<?, ?it/s]"
      ]
     },
     "metadata": {},
     "output_type": "display_data"
    },
    {
     "name": "stdout",
     "output_type": "stream",
     "text": [
      "\n",
      "\n",
      "--- Generating text at epoch 1 ---\n",
      "PROMPT: 'The verdict was'\n",
      "GENERATED: The verdict was, to it,-.,\" \" was,.\n",
      "\n",
      "\n",
      "-- had, the, the.\n",
      "\n",
      " it was Iis.\n",
      "\n",
      "\n",
      "\n",
      "\n",
      "\n",
      "- the had it on, of of,, on,\n",
      "\n",
      "\n",
      "\n",
      "\n",
      "\n",
      "PROMPT: 'In a shocking turn of events'\n",
      "GENERATED: In a shocking turn of events. It the the the the the, it;-- the be, I be the the,.\n",
      "\n",
      "\n",
      "\n",
      "\", the, was the the he, the a,--,, the, was he\n",
      "\n",
      "\n",
      "\n",
      "\n",
      "\n",
      "\n",
      "\n",
      "\n",
      "PROMPT: 'The jury decided to'\n",
      "GENERATED: The jury decided to was- of of.\n",
      " out of to be the of the had was to. He of, had, my, the I on--- of on;, of that,.\n",
      "\n",
      "\n",
      "\n",
      "\n",
      "\n",
      "\n",
      "\n",
      "\n",
      "\n",
      "\n",
      "\",\n",
      "\n"
     ]
    },
    {
     "data": {
      "application/vnd.jupyter.widget-view+json": {
       "model_id": "1c483e8e6e53479b972fe30e215476d4",
       "version_major": 2,
       "version_minor": 0
      },
      "text/plain": [
       "Validation: |          | 0/? [00:00<?, ?it/s]"
      ]
     },
     "metadata": {},
     "output_type": "display_data"
    },
    {
     "name": "stdout",
     "output_type": "stream",
     "text": [
      "\n",
      "\n",
      "--- Generating text at epoch 2 ---\n",
      "PROMPT: 'The verdict was'\n",
      "GENERATED: The verdict was was, to was \", was.\n",
      "\n",
      "\n",
      "\n",
      "\n",
      "\n",
      "\n",
      "\n",
      "'t and had on him, his, as; the of the---- on that; of \" I was to that he had \" of the of the.\n",
      "\n",
      "\n",
      "\n",
      "PROMPT: 'In a shocking turn of events'\n",
      "GENERATED: In a shocking turn of events was of the I of; on to--,, with the with to the I was the that; he had, the to to,--, he of a I had--, he on my, I had I had was was a I to\n",
      "\n",
      "PROMPT: 'The jury decided to'\n",
      "GENERATED: The jury decided to and I my in him,.\n",
      " He was his--isburn I the.\n",
      "\n",
      "\n",
      "\n",
      "\n",
      "\n",
      "\n",
      "\n",
      "\n",
      "\n",
      "\n",
      "\n",
      "\n",
      "\n",
      "\n",
      "\n",
      "\n",
      "\n",
      "\n",
      "\n",
      "\n",
      "\n",
      "\n",
      "\n",
      "\n",
      "is to and I a the the the\n",
      "\n"
     ]
    },
    {
     "data": {
      "application/vnd.jupyter.widget-view+json": {
       "model_id": "f9be300325da48fc896258db7c85a0e5",
       "version_major": 2,
       "version_minor": 0
      },
      "text/plain": [
       "Validation: |          | 0/? [00:00<?, ?it/s]"
      ]
     },
     "metadata": {},
     "output_type": "display_data"
    },
    {
     "name": "stdout",
     "output_type": "stream",
     "text": [
      "\n",
      "\n",
      "--- Generating text at epoch 3 ---\n",
      "PROMPT: 'The verdict was'\n",
      "GENERATED: The verdict was, he, in the and it,.\n",
      "\n",
      "\n",
      "\n",
      "\n",
      " It my he the I had--I he was on the the Mrs.\n",
      "isburn, his to was that was the the the in the \" of the he was he,\n",
      "\n",
      "PROMPT: 'In a shocking turn of events'\n",
      "GENERATED: In a shocking turn of events, in the with the, of the to I have to the a, and in the I was, my I was him was that, of the and, in the my my, and I, of the his I had of's,, he\n",
      "\n",
      "PROMPT: 'The jury decided to'\n",
      "GENERATED: The jury decided to the I had.\n",
      "\n",
      "\n",
      "\n",
      "\"--I he had he was of the in the.is, I the the the his, and his pictures, had it had him--as the and was of,-- that I it,--and\n",
      "\n"
     ]
    },
    {
     "data": {
      "application/vnd.jupyter.widget-view+json": {
       "model_id": "2aeadcd41f3e4fe8ba501daefcbd0a6f",
       "version_major": 2,
       "version_minor": 0
      },
      "text/plain": [
       "Validation: |          | 0/? [00:00<?, ?it/s]"
      ]
     },
     "metadata": {},
     "output_type": "display_data"
    },
    {
     "name": "stdout",
     "output_type": "stream",
     "text": [
      "\n",
      "\n",
      "--- Generating text at epoch 4 ---\n",
      "PROMPT: 'The verdict was'\n",
      "GENERATED: The verdict was, the the I had the him,-- the last I said.\n",
      "\n",
      "--as, had he.\n",
      "\n",
      "\n",
      "\n",
      "\n",
      "\n",
      "\n",
      ", and on a little of, with a the, the a, and and he was a of a\n",
      "\n",
      "PROMPT: 'In a shocking turn of events'\n",
      "GENERATED: In a shocking turn of events--his of my up, the with the fact with the Mrs. Stroud, and--the \"\" was of her.\n",
      "\n",
      "\n",
      "\n",
      "\n",
      "\n",
      " Gisburn of my in the.\n",
      "\n",
      "\n",
      "\n",
      "\n",
      "\n",
      "\n",
      "\n",
      "\n",
      "\n",
      "\n",
      "\n",
      "PROMPT: 'The jury decided to'\n",
      "GENERATED: The jury decided to the a he was a my dear, and Mrs.\n",
      "\n",
      "\n",
      "\n",
      "\"I had--and- I had of the fact and I was \" had a the I was his _,\" and I.\n",
      "\n",
      "\n",
      "\n",
      "\n",
      "--I had her\n",
      "\n"
     ]
    },
    {
     "data": {
      "application/vnd.jupyter.widget-view+json": {
       "model_id": "76c09f6013134d0aaaf08fbc0ff80a82",
       "version_major": 2,
       "version_minor": 0
      },
      "text/plain": [
       "Validation: |          | 0/? [00:00<?, ?it/s]"
      ]
     },
     "metadata": {},
     "output_type": "display_data"
    },
    {
     "name": "stdout",
     "output_type": "stream",
     "text": [
      "\n",
      "\n",
      "--- Generating text at epoch 5 ---\n",
      "PROMPT: 'The verdict was'\n",
      "GENERATED: The verdict was, you know--.\n",
      "\"I was my his pictures with the donkey.\n",
      "\n",
      "\n",
      "\n",
      "\n",
      "\"Well, my own.\n",
      "\"I have been dead.\"\n",
      "\"Oh, I was his pictures I of the donkey by a-t\n",
      "\n",
      "PROMPT: 'In a shocking turn of events'\n",
      "GENERATED: In a shocking turn of events to have about to the house.\"\n",
      "\"I had a.\n",
      "\n",
      "\n",
      "\"I said.\n",
      "\n",
      "\"I me, and was not to put it he was, he was the the sketch of the house--as my hostess was the\n",
      "\n",
      "PROMPT: 'The jury decided to'\n",
      "GENERATED: The jury decided to on the first was a I had to see the sketch of his eyes.\n",
      "\n",
      "\"I, the last he was of the a it.\"\n",
      "\n",
      "\"I was, in a that, and his pictures? he was his up his pictures.\n",
      "\n"
     ]
    },
    {
     "data": {
      "application/vnd.jupyter.widget-view+json": {
       "model_id": "56cdf518a070442db4725bb6ffb3b4fc",
       "version_major": 2,
       "version_minor": 0
      },
      "text/plain": [
       "Validation: |          | 0/? [00:00<?, ?it/s]"
      ]
     },
     "metadata": {},
     "output_type": "display_data"
    },
    {
     "name": "stdout",
     "output_type": "stream",
     "text": [
      "\n",
      "\n",
      "--- Generating text at epoch 6 ---\n",
      "PROMPT: 'The verdict was'\n",
      "GENERATED: The verdict was his eyes. That's an I turned back his own attitude as a little't know, that, and he had to see it's \"I had the first of my own Gisburn's the Riviera, and had to the first, and\n",
      "\n",
      "PROMPT: 'In a shocking turn of events'\n",
      "GENERATED: In a shocking turn of events, I felt it by the honour--all the with a little.\n",
      "\n",
      "\"I was, I had the the fact, and I had not to my eyes had always been, I had--I have been the moment--all the picture was\n",
      "\n",
      "PROMPT: 'The jury decided to'\n",
      "GENERATED: The jury decided to see the sketch of the moment I couldn't think of the mantel-brac, he was, he was to a deprecating her it. Gisburn, and he chucked of his eyes.\n",
      "\n",
      "\"I had married her\n",
      "\n"
     ]
    },
    {
     "data": {
      "application/vnd.jupyter.widget-view+json": {
       "model_id": "7d09ce6f100b4168b0bc1f5062c0da77",
       "version_major": 2,
       "version_minor": 0
      },
      "text/plain": [
       "Validation: |          | 0/? [00:00<?, ?it/s]"
      ]
     },
     "metadata": {},
     "output_type": "display_data"
    },
    {
     "name": "stdout",
     "output_type": "stream",
     "text": [
      "\n",
      "\n",
      "--- Generating text at epoch 7 ---\n",
      "PROMPT: 'The verdict was'\n",
      "GENERATED: The verdict was not to have been his pictures--I was his history.\n",
      "He was, as that he had the latter, in the last he was to the picture to me.\n",
      "\"Oh, and his pictures--the first, he doesn't say.\n",
      "\n",
      "PROMPT: 'In a shocking turn of events'\n",
      "GENERATED: In a shocking turn of events.\n",
      "\"I must have been his painting a very handsome \"If you say it to me--she had the latter, it was his eyes grew.\n",
      "\n",
      "\"I was when I felt it to be that you know.\n",
      "\n",
      "\"I\n",
      "\n",
      "PROMPT: 'The jury decided to'\n",
      "GENERATED: The jury decided to my eye fell on him--I looked up the picture.\n",
      "\n",
      "\n",
      "\"That was his pictures.\n",
      "\"I won't the sketch, I said.\n",
      "\"I had been no--because he had not to the house his own to my\n",
      "\n"
     ]
    },
    {
     "data": {
      "application/vnd.jupyter.widget-view+json": {
       "model_id": "68b9793957fd4dfa9ea84da8e2ee9f7c",
       "version_major": 2,
       "version_minor": 0
      },
      "text/plain": [
       "Validation: |          | 0/? [00:00<?, ?it/s]"
      ]
     },
     "metadata": {},
     "output_type": "display_data"
    },
    {
     "name": "stdout",
     "output_type": "stream",
     "text": [
      "\n",
      "\n",
      "--- Generating text at epoch 8 ---\n",
      "PROMPT: 'The verdict was'\n",
      "GENERATED: The verdict was dead, and he was down, as he was not to the house.\"\n",
      "\"I didn't to see a rule, I didn't let a showy bits--I looked up-tubes, with a straw when I saw that he was\n",
      "\n",
      "PROMPT: 'In a shocking turn of events'\n",
      "GENERATED: In a shocking turn of events, I had been used as a.\n",
      "\n",
      "\n",
      "\"This is a kind of the fact--\"I told me of the sketch of the end of the fact with a little: \"There: \"I had I didn't count, my dear\n",
      "\n",
      "PROMPT: 'The jury decided to'\n",
      "GENERATED: The jury decided to me--I had equally, who had been his ease--his I had forgotten to the man of the room.\n",
      "\n",
      "\"Oh, with the mantel and he had not led him. Gisburn's \"I couldn't--and that\n",
      "\n"
     ]
    },
    {
     "data": {
      "application/vnd.jupyter.widget-view+json": {
       "model_id": "005268789a1d43dea1b4f52e5ae96712",
       "version_major": 2,
       "version_minor": 0
      },
      "text/plain": [
       "Validation: |          | 0/? [00:00<?, ?it/s]"
      ]
     },
     "metadata": {},
     "output_type": "display_data"
    },
    {
     "name": "stdout",
     "output_type": "stream",
     "text": [
      "\n",
      "\n",
      "--- Generating text at epoch 9 ---\n",
      "PROMPT: 'The verdict was'\n",
      "GENERATED: The verdict was a smile that, with your of the last in the fact with the room, and in a discrimination that, on my eyes grew accustomed to lift a showy to the house in the picture?\" I had a note the donkey.\n",
      "\n",
      "\n",
      "\n",
      "\n",
      "\n",
      "PROMPT: 'In a shocking turn of events'\n",
      "GENERATED: In a shocking turn of events, and caught a congesting in the current--that_ drawing-century pictures.\n",
      "\"What a little: \"There: \"It was not to go under a smile behind--because he said, I was \"Grindles.\"\n",
      "\n",
      "\n",
      "\n",
      "PROMPT: 'The jury decided to'\n",
      "GENERATED: The jury decided to \"Yes--as he said, in the current--so handsome, in an endless vista of Jack's balustraded terrace at the fact that Mrs. It's break with the easel. I had been surrounded by my dear,\n",
      "\n"
     ]
    },
    {
     "data": {
      "application/vnd.jupyter.widget-view+json": {
       "model_id": "728694dae26748a9b941dc6ef7ceb7ec",
       "version_major": 2,
       "version_minor": 0
      },
      "text/plain": [
       "Validation: |          | 0/? [00:00<?, ?it/s]"
      ]
     },
     "metadata": {},
     "output_type": "display_data"
    },
    {
     "name": "stdout",
     "output_type": "stream",
     "text": [
      "\n",
      "\n",
      "--- Generating text at epoch 10 ---\n",
      "PROMPT: 'The verdict was'\n",
      "GENERATED: The verdict was the easel-clos of the picture. The more modest place of that, I seemed to be that he was growing like him--and that Mrs. He had married her to have him down in a little under, and as an object for\n",
      "\n",
      "PROMPT: 'In a shocking turn of events'\n",
      "GENERATED: In a shocking turn of events an inflexible her poverty. Rickham wanted to the picture was the end would was tired of a deprecating laugh: \"If you know with such an appearance of beauty.\"\n",
      "\n",
      "\"Oh, I didn't--as you know you\n",
      "\n",
      "PROMPT: 'The jury decided to'\n",
      "GENERATED: The jury decided to my lips, and dingy: \"Moon-presses--and him up one might be interesting to see his eyes grew dim, the first portrait, so that he was down in an arm-rooms, with some pretty irrevocable--I\n",
      "\n"
     ]
    }
   ],
   "source": [
    "%load_ext tensorboard\n",
    "%tensorboard --logdir logs/\n",
    "\n",
    "class GenerateTextCallback(L.Callback):\n",
    "    \"\"\"A PyTorch Lightning callback to generate text samples at the end of each validation epoch.\"\"\"\n",
    "    def __init__(self, prompts, tokenizer, every_n_epochs=1):\n",
    "        super().__init__()\n",
    "        self.prompts = prompts\n",
    "        self.tokenizer = tokenizer\n",
    "        self.every_n_epochs = every_n_epochs\n",
    "\n",
    "    def on_validation_epoch_end(self, trainer, pl_module):\n",
    "        if (trainer.current_epoch + 1) % self.every_n_epochs != 0:\n",
    "            return\n",
    "\n",
    "        print(f\"\\n\\n--- Generating text at epoch {trainer.current_epoch + 1} ---\")\n",
    "        \n",
    "        for prompt in self.prompts:\n",
    "            start_tokens = self.tokenizer.encode(prompt)\n",
    "            context = torch.tensor(start_tokens, dtype=torch.long, device=pl_module.device).unsqueeze(0)\n",
    "            generated_tokens = pl_module.generate(context, max_new_tokens=50, temperature=0.8, top_k=20)\n",
    "            generated_text = self.tokenizer.decode(generated_tokens[0].tolist())\n",
    "            print(f\"PROMPT: '{prompt}'\")\n",
    "            print(f\"GENERATED: {generated_text}\\n\")\n",
    "\n",
    "callback = GenerateTextCallback(prompts=[\"The verdict was\", \"In a shocking turn of events\", \"The jury decided to\"], \n",
    "    tokenizer=tokenizer, every_n_epochs=1)\n",
    "\n",
    "trainer = L.Trainer(max_epochs=20, accelerator='auto', devices=1, \n",
    "                    callbacks=[callback, L.pytorch.callbacks.EarlyStopping(monitor='val_loss', mode='min')],\n",
    "                    logger=L.pytorch.loggers.TensorBoardLogger(\"logs/\"), log_every_n_steps=1) \n",
    "\n",
    "trainer.fit(model, train_loader, val_loader)"
   ]
  },
  {
   "cell_type": "markdown",
   "id": "4011f5a5",
   "metadata": {},
   "source": [
    "We see that the training loss decays quite nicely and the val loss too. We use early stopping callback in lightning to stop training when val loss starts to increase.\n",
    "\n",
    "![image.png](assets/tinyllm-training.png)\n",
    "\n",
    "Let's see how the model performs. "
   ]
  },
  {
   "cell_type": "code",
   "execution_count": 8,
   "id": "bb288c70",
   "metadata": {},
   "outputs": [
    {
     "data": {
      "text/plain": [
       "'What did Mrs. Gisburn do? The answer to that is the donkey--the Jack\\'s big balance enabled him, and, to say, to have been taken with a smile in the Riviera. . . Gisburn was a feather.\\n\\n\\n\"Destroyed to now had always been denied the'"
      ]
     },
     "execution_count": 8,
     "metadata": {},
     "output_type": "execute_result"
    }
   ],
   "source": [
    "prompt = \"What did Mrs. Gisburn do? The answer to that is\"\n",
    "\n",
    "start_tokens = tokenizer.encode(prompt)\n",
    "context = torch.tensor(start_tokens, dtype=torch.long, device=model.device).unsqueeze(0)\n",
    "generated_tokens = model.generate(context, max_new_tokens=50, temperature=0.8, top_k=20)\n",
    "generated_text = tokenizer.decode(generated_tokens[0].tolist())\n",
    "\n",
    "generated_text"
   ]
  },
  {
   "cell_type": "markdown",
   "id": "27fabe9f",
   "metadata": {},
   "source": [
    "This still is mostly gibberish.\n",
    "\n",
    "I really like the code above showing the nitty-gritty details of how a multi-head attention works, but we won't use that in the rest of the tutorials. The reason being that the above code is not really optimised for GPUs. Let's see that using PyTorch profiling and benchmarking. I highly recommend the reader to go through the [Stanford CS336 Lecture on Kernels](https://www.youtube.com/watch?v=E8Mju53VB00&list=PLoROMvodv4rOY23Y0BoGoBGgQ1zmU_MT_&index=7)."
   ]
  },
  {
   "cell_type": "code",
   "execution_count": 9,
   "id": "e1668ff6",
   "metadata": {},
   "outputs": [
    {
     "name": "stdout",
     "output_type": "stream",
     "text": [
      "Our MHA 0.2908945083618164\n",
      "PyTorch MHA 0.22614002227783203\n"
     ]
    }
   ],
   "source": [
    "import time \n",
    "from typing import Callable\n",
    "from numpy import mean \n",
    "from torch.nn import MultiheadAttention\n",
    "from torch.nn.attention import sdpa_kernel, SDPBackend\n",
    "\n",
    "torch.backends.cuda.math_sdp_enabled()\n",
    "\n",
    "\n",
    "# Code directly taken from https://stanford-cs336.github.io/spring2025-lectures/?trace=var/traces/lecture_06.json\n",
    "def benchmark(description: str, run: Callable, num_warmups: int = 3, num_trials: int = 3):\n",
    "    \"\"\"Benchmark `func` by running it `num_trials`, and return all the times.\"\"\"\n",
    "    # Warmup: first times might be slower due to compilation, things not cached.\n",
    "    # Since we will run the kernel multiple times, the timing that matters is steady state.\n",
    "    for _ in range(num_warmups):\n",
    "        run()\n",
    "    if torch.cuda.is_available():\n",
    "        torch.cuda.synchronize()  # Wait for CUDA threads to finish (important!)\n",
    "    # Time it for real now!\n",
    "    times: list[float] = [] # @inspect times, @inspect description\n",
    "    for trial in range(num_trials):  # Do it multiple times to capture variance\n",
    "        start_time = time.time()\n",
    "        run()  # Actually perform computation\n",
    "        if torch.cuda.is_available():\n",
    "            torch.cuda.synchronize()  # Wait for CUDA threads to finish (important!)\n",
    "        end_time = time.time()\n",
    "        times.append((end_time - start_time) * 1000) # @inspect times\n",
    "    mean_time = mean(times) # @inspect mean_time\n",
    "    return mean_time\n",
    "\n",
    "\n",
    "mha = MultiHeadSelfAttention(d_model=128, n_head=8, dropout=0.0, trace_shapes=False).to(device).half()\n",
    "mha2 = MultiheadAttention(embed_dim=128, num_heads=8, dropout=0.0, batch_first=True).to(device).half()\n",
    "\n",
    "x = torch.randn(32, 128, 128, device=device).half()\n",
    "print('Our MHA', benchmark('Unoptimised MHA', lambda: mha(x), num_warmups=3, num_trials=10))\n",
    "with sdpa_kernel(backends=[SDPBackend.FLASH_ATTENTION]):\n",
    "    print('PyTorch MHA', benchmark('Optimised MHA', lambda: mha2(x, x, x)[0], num_warmups=3, num_trials=10))"
   ]
  },
  {
   "cell_type": "markdown",
   "id": "3a8a0c0d",
   "metadata": {},
   "source": [
    "The benchmark code here takes a runnable function and runs it 10 times to take average over multiple runs. It also implements a warmup where the first few runs are considered are not counted towards the benchmarking time, as there may be code compilation or data transfer to the GPU, and other initialisations might be taking place which we don't want to count. Clearly, the code we wrote by hand is much slower than the one implemented by PyTorch. There are mutiple reasons for this, but primarily, the PyTorch one implements kernel optimisations, such as [FlashAttention](https://arxiv.org/pdf/2307.08691)."
   ]
  },
  {
   "cell_type": "code",
   "execution_count": 10,
   "id": "3d7fbc6e",
   "metadata": {},
   "outputs": [
    {
     "name": "stdout",
     "output_type": "stream",
     "text": [
      "--------------------------------------------------------------------------------  ------------  ------------  ------------  ------------  ------------  ------------  ------------  ------------  ------------  ------------  \n",
      "                                                                            Name    Self CPU %      Self CPU   CPU total %     CPU total  CPU time avg     Self CUDA   Self CUDA %    CUDA total  CUDA time avg    # of Calls  \n",
      "--------------------------------------------------------------------------------  ------------  ------------  ------------  ------------  ------------  ------------  ------------  ------------  ------------  ------------  \n",
      "                                                                    aten::matmul         1.38%      35.727us        86.85%       2.244ms     560.997us       0.000us         0.00%      77.088us      19.272us             4  \n",
      "                                                                    aten::linear         0.41%      10.595us        79.73%       2.060ms       1.030ms       0.000us         0.00%      40.096us      20.048us             2  \n",
      "                                                                        aten::mm         4.38%     113.072us        76.64%       1.980ms     990.194us      24.480us        23.22%      40.096us      20.048us             2  \n",
      "                                                                     aten::copy_         1.68%      43.528us         4.03%     104.218us      14.888us      25.536us        24.22%      25.536us       3.648us             7  \n",
      "                                                                     aten::clone         0.55%      14.127us         4.47%     115.577us      23.115us       0.000us         0.00%      24.096us       4.819us             5  \n",
      "                                                                       aten::bmm         3.07%      79.243us         3.54%      91.395us      45.697us      23.744us        22.52%      23.744us      11.872us             2  \n",
      "                                                               aten::masked_fill         0.42%      10.968us         1.95%      50.291us      50.291us       0.000us         0.00%      19.488us      19.488us             1  \n",
      "void at::native::elementwise_kernel<128, 2, at::native::gpu_kernel_impl_nocas...         0.00%       0.000us         0.00%       0.000us       0.000us      17.056us        16.18%      17.056us       4.264us             4  \n",
      "                                                         Activity Buffer Request        70.70%       1.827ms        70.70%       1.827ms       1.827ms      15.616us        14.81%      15.616us      15.616us             1  \n",
      "sm80_xmma_gemm_f32f32_f32f32_f32_tn_n_tilesize128x32x8_stage3_warpsize2x2x1_f...         0.00%       0.000us         0.00%       0.000us       0.000us      15.616us        14.81%      15.616us      15.616us             1  \n",
      "                                                                   aten::reshape         0.67%      17.379us         4.38%     113.252us      18.875us       0.000us         0.00%      13.248us       2.208us             6  \n",
      "                                                                   aten::softmax         0.07%       1.888us         0.67%      17.296us      17.296us       0.000us         0.00%      12.608us      12.608us             1  \n",
      "                                                                  aten::_softmax         0.38%       9.923us         0.60%      15.408us      15.408us      12.608us        11.96%      12.608us      12.608us             1  \n",
      "void (anonymous namespace)::softmax_warp_forward<float, float, float, 7, fals...         0.00%       0.000us         0.00%       0.000us       0.000us      12.608us        11.96%      12.608us      12.608us             1  \n",
      "                                                              aten::masked_fill_         0.33%       8.634us         0.65%      16.690us      16.690us      12.448us        11.81%      12.448us      12.448us             1  \n",
      "void at::native::elementwise_kernel<128, 2, at::native::gpu_kernel_impl_nocas...         0.00%       0.000us         0.00%       0.000us       0.000us      12.448us        11.81%      12.448us      12.448us             1  \n",
      "sm80_xmma_gemm_f32f32_f32f32_f32_nn_n_tilesize128x32x8_stage3_warpsize2x2x1_f...         0.00%       0.000us         0.00%       0.000us       0.000us      12.096us        11.47%      12.096us      12.096us             1  \n",
      "void cutlass::Kernel2<cutlass_80_simt_sgemm_128x32_8x5_nn_align1>(cutlass_80_...         0.00%       0.000us         0.00%       0.000us       0.000us      11.648us        11.05%      11.648us      11.648us             1  \n",
      "sm80_xmma_gemm_f32f32_f32f32_f32_tn_n_tilesize64x64x8_stage3_warpsize1x4x1_ff...         0.00%       0.000us         0.00%       0.000us       0.000us       8.864us         8.41%       8.864us       8.864us             1  \n",
      "                                                  Memcpy DtoD (Device -> Device)         0.00%       0.000us         0.00%       0.000us       0.000us       7.040us         6.68%       7.040us       7.040us             1  \n",
      "                                                                       aten::mul         1.05%      27.257us         1.31%      33.835us      33.835us       6.624us         6.28%       6.624us       6.624us             1  \n",
      "void at::native::vectorized_elementwise_kernel<4, at::native::AUnaryFunctor<f...         0.00%       0.000us         0.00%       0.000us       0.000us       6.624us         6.28%       6.624us       6.624us             1  \n",
      "                                                                aten::contiguous         0.03%       0.740us         0.53%      13.650us      13.650us       0.000us         0.00%       3.808us       3.808us             1  \n",
      "                                                                        aten::to         0.10%       2.701us         1.95%      50.385us      25.193us       0.000us         0.00%       1.440us       0.720us             2  \n",
      "                                                                  aten::_to_copy         0.24%       6.275us         1.85%      47.684us      23.842us       0.000us         0.00%       1.440us       0.720us             2  \n",
      "                                                Memcpy HtoD (Pageable -> Device)         0.00%       0.000us         0.00%       0.000us       0.000us       1.440us         1.37%       1.440us       1.440us             1  \n",
      "                                                                         aten::t         0.72%      18.530us         1.14%      29.520us      14.760us       0.000us         0.00%       0.000us       0.000us             2  \n",
      "                                                                 aten::transpose         0.62%      16.058us         0.91%      23.409us       3.344us       0.000us         0.00%       0.000us       0.000us             7  \n",
      "                                                                aten::as_strided         0.57%      14.746us         0.57%      14.746us       0.867us       0.000us         0.00%       0.000us       0.000us            17  \n",
      "                                                                      aten::view         0.58%      15.054us         0.58%      15.054us       2.509us       0.000us         0.00%       0.000us       0.000us             6  \n",
      "                                                             cudaLaunchKernelExC         1.80%      46.554us         1.80%      46.554us      15.518us       0.000us         0.00%       0.000us       0.000us             3  \n",
      "                                                              aten::_unsafe_view         0.68%      17.693us         0.68%      17.693us       2.528us       0.000us         0.00%       0.000us       0.000us             7  \n",
      "                                                                    aten::unbind         0.46%      11.810us         0.85%      21.939us      21.939us       0.000us         0.00%       0.000us       0.000us             1  \n",
      "                                                                    aten::select         0.25%       6.506us         0.39%      10.129us       3.376us       0.000us         0.00%       0.000us       0.000us             3  \n",
      "                                                                    aten::expand         0.47%      12.027us         0.61%      15.799us       2.257us       0.000us         0.00%       0.000us       0.000us             7  \n",
      "                                                                aten::empty_like         0.31%       7.946us         1.22%      31.559us       6.312us       0.000us         0.00%       0.000us       0.000us             5  \n",
      "                                                                     aten::empty         1.04%      26.898us         1.04%      26.898us       4.483us       0.000us         0.00%       0.000us       0.000us             6  \n",
      "                                                                cudaLaunchKernel         1.77%      45.828us         1.77%      45.828us       6.547us       0.000us         0.00%       0.000us       0.000us             7  \n",
      "                                                          cudaDeviceGetAttribute         0.04%       1.095us         0.04%       1.095us       1.095us       0.000us         0.00%       0.000us       0.000us             1  \n",
      "                                                                  cuLaunchKernel         0.19%       5.019us         0.19%       5.019us       5.019us       0.000us         0.00%       0.000us       0.000us             1  \n",
      "--------------------------------------------------------------------------------  ------------  ------------  ------------  ------------  ------------  ------------  ------------  ------------  ------------  ------------  \n",
      "Self CPU time total: 2.584ms\n",
      "Self CUDA time total: 105.440us\n",
      "\n",
      "--------------------------------------------------------------------------------  ------------  ------------  ------------  ------------  ------------  ------------  ------------  ------------  ------------  ------------  \n",
      "                                                                            Name    Self CPU %      Self CPU   CPU total %     CPU total  CPU time avg     Self CUDA   Self CUDA %    CUDA total  CUDA time avg    # of Calls  \n",
      "--------------------------------------------------------------------------------  ------------  ------------  ------------  ------------  ------------  ------------  ------------  ------------  ------------  ------------  \n",
      "                                                                    aten::linear         0.41%       9.071us        90.28%       1.981ms     990.728us       0.000us         0.00%      39.710us      19.855us             2  \n",
      "                                                                       aten::bmm         1.78%      38.991us         2.27%      49.825us      24.913us      24.256us        27.48%      24.256us      12.128us             2  \n",
      "                                                                    aten::matmul         0.28%       6.092us        86.67%       1.902ms       1.902ms       0.000us         0.00%      23.678us      23.678us             1  \n",
      "                                                                     aten::clone         0.55%      12.113us        84.16%       1.847ms     615.672us       0.000us         0.00%      17.534us       5.845us             3  \n",
      "                                                                     aten::copy_         1.56%      34.326us        82.46%       1.810ms     603.263us      13.567us        15.37%      17.534us       5.845us             3  \n",
      "                                                                        aten::mm         2.78%      60.973us         3.16%      69.248us      69.248us      15.744us        17.84%      15.744us      15.744us             1  \n",
      "sm80_xmma_gemm_f32f32_f32f32_f32_tn_n_tilesize128x32x8_stage3_warpsize2x2x1_f...         0.00%       0.000us         0.00%       0.000us       0.000us      15.744us        17.84%      15.744us      15.744us             1  \n",
      "void at::native::elementwise_kernel<128, 2, at::native::gpu_kernel_impl_nocas...         0.00%       0.000us         0.00%       0.000us       0.000us      13.567us        15.37%      13.567us       4.522us             3  \n",
      "sm80_xmma_gemm_f32f32_f32f32_f32_nn_n_tilesize128x32x8_stage3_warpsize2x2x1_f...         0.00%       0.000us         0.00%       0.000us       0.000us      12.320us        13.96%      12.320us      12.320us             1  \n",
      "sm80_xmma_gemm_f32f32_f32f32_f32_tn_n_tilesize64x64x8_stage3_warpsize1x4x1_ff...         0.00%       0.000us         0.00%       0.000us       0.000us      11.936us        13.52%      11.936us      11.936us             1  \n",
      "                                                                     aten::addmm         1.27%      27.838us         1.56%      34.226us      34.226us       9.760us        11.06%       9.760us       9.760us             1  \n",
      "sm80_xmma_gemm_f32f32_f32f32_f32_tn_n_tilesize32x32x8_stage3_warpsize1x2x1_ff...         0.00%       0.000us         0.00%       0.000us       0.000us       9.760us        11.06%       9.760us       9.760us             1  \n",
      "                                                                aten::contiguous         0.10%       2.236us         1.77%      38.856us      19.428us       0.000us         0.00%       9.600us       4.800us             2  \n",
      "                                                                   aten::softmax         0.08%       1.713us         0.70%      15.266us      15.266us       0.000us         0.00%       8.832us       8.832us             1  \n",
      "                                                                  aten::_softmax         0.40%       8.678us         0.62%      13.553us      13.553us       8.832us        10.01%       8.832us       8.832us             1  \n",
      "void (anonymous namespace)::softmax_warp_forward<float, float, float, 7, fals...         0.00%       0.000us         0.00%       0.000us       0.000us       8.832us        10.01%       8.832us       8.832us             1  \n",
      "                                                                   aten::reshape         0.44%       9.757us        83.14%       1.825ms       1.825ms       0.000us         0.00%       7.934us       7.934us             1  \n",
      "                                                                      aten::mean         0.70%      15.309us         1.00%      21.908us      21.908us       7.712us         8.74%       7.712us       7.712us             1  \n",
      "void at::native::reduce_kernel<128, 4, at::native::ReduceOp<float, at::native...         0.00%       0.000us         0.00%       0.000us       0.000us       7.712us         8.74%       7.712us       7.712us             1  \n",
      "                                                                      aten::add_         0.77%      16.992us         1.13%      24.840us      24.840us       6.272us         7.11%       6.272us       6.272us             1  \n",
      "void at::native::elementwise_kernel<128, 2, at::native::gpu_kernel_impl_nocas...         0.00%       0.000us         0.00%       0.000us       0.000us       6.272us         7.11%       6.272us       6.272us             1  \n",
      "                                                         Activity Buffer Request        79.27%       1.740ms        79.27%       1.740ms       1.740ms       3.967us         4.49%       3.967us       3.967us             1  \n",
      "                                                                       aten::mul         0.55%      12.175us         0.82%      17.919us      17.919us       2.112us         2.39%       2.112us       2.112us             1  \n",
      "void at::native::vectorized_elementwise_kernel<4, at::native::AUnaryFunctor<f...         0.00%       0.000us         0.00%       0.000us       0.000us       2.112us         2.39%       2.112us       2.112us             1  \n",
      "                                                                 aten::transpose         0.89%      19.638us         1.24%      27.229us       2.723us       0.000us         0.00%       0.000us       0.000us            10  \n",
      "                                                                aten::as_strided         0.53%      11.738us         0.53%      11.738us       0.734us       0.000us         0.00%       0.000us       0.000us            16  \n",
      "                                                                         aten::t         0.37%       8.191us         0.51%      11.084us       5.542us       0.000us         0.00%       0.000us       0.000us             2  \n",
      "                                                                aten::empty_like         0.20%       4.430us         1.14%      25.112us       8.371us       0.000us         0.00%       0.000us       0.000us             3  \n",
      "                                                                     aten::empty         0.94%      20.682us         0.94%      20.682us       6.894us       0.000us         0.00%       0.000us       0.000us             3  \n",
      "                                                                cudaLaunchKernel         2.74%      60.168us         2.74%      60.168us       8.595us       0.000us         0.00%       0.000us       0.000us             7  \n",
      "                                                              aten::_unsafe_view         0.31%       6.742us         0.31%       6.742us       3.371us       0.000us         0.00%       0.000us       0.000us             2  \n",
      "                                                             cudaLaunchKernelExC         1.16%      25.497us         1.16%      25.497us       6.374us       0.000us         0.00%       0.000us       0.000us             4  \n",
      "                                                                 aten::unflatten         0.15%       3.373us         0.30%       6.616us       6.616us       0.000us         0.00%       0.000us       0.000us             1  \n",
      "                                                                      aten::view         0.58%      12.784us         0.58%      12.784us       1.826us       0.000us         0.00%       0.000us       0.000us             7  \n",
      "                                                                 aten::unsqueeze         0.18%       4.056us         0.25%       5.503us       5.503us       0.000us         0.00%       0.000us       0.000us             1  \n",
      "                                                                   aten::squeeze         0.20%       4.315us         0.22%       4.929us       4.929us       0.000us         0.00%       0.000us       0.000us             1  \n",
      "                                                                    aten::select         0.37%       8.096us         0.44%       9.602us       3.201us       0.000us         0.00%       0.000us       0.000us             3  \n",
      "                                                           cudaDeviceSynchronize         0.41%       8.990us         0.41%       8.990us       4.495us       0.000us         0.00%       0.000us       0.000us             2  \n",
      "--------------------------------------------------------------------------------  ------------  ------------  ------------  ------------  ------------  ------------  ------------  ------------  ------------  ------------  \n",
      "Self CPU time total: 2.195ms\n",
      "Self CUDA time total: 88.255us\n",
      "\n"
     ]
    }
   ],
   "source": [
    "from torch.profiler import ProfilerActivity\n",
    "torch.backends.cuda.flash_sdp_enabled()\n",
    "\n",
    "def profile(description: str, run: Callable, num_warmups: int = 1, with_stack: bool = False):\n",
    "    # Warmup\n",
    "    for _ in range(num_warmups):\n",
    "        run()\n",
    "    if torch.cuda.is_available():\n",
    "        torch.cuda.synchronize()  # Wait for CUDA threads to finish (important!)\n",
    "    # Run the code with the profiler\n",
    "    with torch.profiler.profile(\n",
    "            activities=[ProfilerActivity.CPU, ProfilerActivity.CUDA],\n",
    "            # Output stack trace for visualization\n",
    "            with_stack=with_stack,\n",
    "            # Needed to export stack trace for visualization\n",
    "            experimental_config=torch._C._profiler._ExperimentalConfig(verbose=True)) as prof:\n",
    "        run()\n",
    "        if torch.cuda.is_available():\n",
    "            torch.cuda.synchronize()  # Wait for CUDA threads to finish (important!)\n",
    "    # Print out table\n",
    "    table = prof.key_averages().table(sort_by=\"cuda_time_total\",\n",
    "                                      max_name_column_width=80,\n",
    "                                      row_limit=40)\n",
    "    return table\n",
    "\n",
    "mha = MultiHeadSelfAttention(d_model=128, n_head=8, dropout=0.0, trace_shapes=False).to(device)\n",
    "mha2 = MultiheadAttention(embed_dim=128, num_heads=8, dropout=0.0, batch_first=True).to(device)\n",
    "\n",
    "x = torch.randn(32, 128, 128, device=device)\n",
    "print(profile('Our MHA', lambda: mha(x), num_warmups=3))\n",
    "with sdpa_kernel(backends=[SDPBackend.FLASH_ATTENTION]):\n",
    "    print(profile('PyTorch MHA', lambda: mha2(x, x, x)[0], num_warmups=3))"
   ]
  },
  {
   "cell_type": "markdown",
   "id": "343fffdf",
   "metadata": {},
   "source": [
    "Considering the level of kernel optimisations that go into such implementations, we shall use implementations from PyTorch or the transformers library from HuggingFace. These optimisations would include the Muon optimiser, RMSNorm, Mixture-of-Experts, FlashAttention, SwiGLU, RoPE, and so on."
   ]
  }
 ],
 "metadata": {
  "kernelspec": {
   "display_name": "llms-from-scratch (3.12.0)",
   "language": "python",
   "name": "python3"
  },
  "language_info": {
   "codemirror_mode": {
    "name": "ipython",
    "version": 3
   },
   "file_extension": ".py",
   "mimetype": "text/x-python",
   "name": "python",
   "nbconvert_exporter": "python",
   "pygments_lexer": "ipython3",
   "version": "3.12.0"
  }
 },
 "nbformat": 4,
 "nbformat_minor": 5
}

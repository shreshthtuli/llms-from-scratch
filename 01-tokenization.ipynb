{
 "cells": [
  {
   "cell_type": "markdown",
   "metadata": {},
   "source": [
    "# 01. Tokenization\n",
    "\n",
    "Welcome to the first notebook tutorial of the series. This course guides you through the most fundamental concepts required to build Agentic AI applications. All via code, no hand-wavy discussions. And we start from the atomic entity for language models: tokens! \n",
    "\n",
    "Tokenization is a task of converting input text into individual tokens that a language model can process. We use the text from [The Verdict](https://en.wikisource.org/wiki/The_Verdict) to train our tokenizers. This notebook introduces the intuition and mechanics behind tokenizing raw text, moving from simple character-based approaches toward more expressive schemes that prepare data for language-model training.\n",
    "\n",
    "We start with a simple character level tokenization. Here, we consider each character as a token. So, for an input text, each unique character in the text becomes a separate token. "
   ]
  },
  {
   "cell_type": "code",
   "execution_count": 1,
   "metadata": {},
   "outputs": [],
   "source": [
    "import plotly.express as px\n",
    "from collections import defaultdict"
   ]
  },
  {
   "cell_type": "code",
   "execution_count": 2,
   "metadata": {},
   "outputs": [
    {
     "name": "stdout",
     "output_type": "stream",
     "text": [
      "27 [' ', 'a', 'b', 'c', 'd', 'e', 'f', 'g', 'h', 'i', 'j', 'k', 'l', 'm', 'n', 'o', 'p', 'q', 'r', 's', 't', 'u', 'v', 'w', 'x', 'y', 'z']\n",
      "[8, 9, '<unk>', 0, 8, 15, 23, 0, 1, 18, 5, 0, 25, 15, 21, '<unk>']\n",
      "hi<unk> how are you<unk>\n",
      "Compression ratio 1.0\n"
     ]
    },
    {
     "data": {
      "application/vnd.plotly.v1+json": {
       "config": {
        "plotlyServerURL": "https://plot.ly"
       },
       "data": [
        {
         "hovertemplate": "Token=%{x}<br>Frequency=%{y}<extra></extra>",
         "legendgroup": "",
         "marker": {
          "color": "#636efa",
          "pattern": {
           "shape": ""
          }
         },
         "name": "",
         "orientation": "v",
         "showlegend": false,
         "textposition": "auto",
         "type": "bar",
         "x": [
          " ",
          "a",
          "b",
          "c",
          "d",
          "e",
          "f",
          "g",
          "h",
          "i",
          "j",
          "k",
          "l",
          "m",
          "n",
          "o",
          "p",
          "q",
          "r",
          "s",
          "t",
          "u",
          "v",
          "w",
          "x",
          "y",
          "z"
         ],
         "xaxis": "x",
         "y": {
          "bdata": "CAEBAQEDAQECAQEBAQEBBAEBAgECAgEBAQEB",
          "dtype": "i1"
         },
         "yaxis": "y"
        }
       ],
       "layout": {
        "barmode": "relative",
        "height": 300,
        "legend": {
         "tracegroupgap": 0
        },
        "margin": {
         "t": 60
        },
        "template": {
         "data": {
          "bar": [
           {
            "error_x": {
             "color": "#2a3f5f"
            },
            "error_y": {
             "color": "#2a3f5f"
            },
            "marker": {
             "line": {
              "color": "#E5ECF6",
              "width": 0.5
             },
             "pattern": {
              "fillmode": "overlay",
              "size": 10,
              "solidity": 0.2
             }
            },
            "type": "bar"
           }
          ],
          "barpolar": [
           {
            "marker": {
             "line": {
              "color": "#E5ECF6",
              "width": 0.5
             },
             "pattern": {
              "fillmode": "overlay",
              "size": 10,
              "solidity": 0.2
             }
            },
            "type": "barpolar"
           }
          ],
          "carpet": [
           {
            "aaxis": {
             "endlinecolor": "#2a3f5f",
             "gridcolor": "white",
             "linecolor": "white",
             "minorgridcolor": "white",
             "startlinecolor": "#2a3f5f"
            },
            "baxis": {
             "endlinecolor": "#2a3f5f",
             "gridcolor": "white",
             "linecolor": "white",
             "minorgridcolor": "white",
             "startlinecolor": "#2a3f5f"
            },
            "type": "carpet"
           }
          ],
          "choropleth": [
           {
            "colorbar": {
             "outlinewidth": 0,
             "ticks": ""
            },
            "type": "choropleth"
           }
          ],
          "contour": [
           {
            "colorbar": {
             "outlinewidth": 0,
             "ticks": ""
            },
            "colorscale": [
             [
              0,
              "#0d0887"
             ],
             [
              0.1111111111111111,
              "#46039f"
             ],
             [
              0.2222222222222222,
              "#7201a8"
             ],
             [
              0.3333333333333333,
              "#9c179e"
             ],
             [
              0.4444444444444444,
              "#bd3786"
             ],
             [
              0.5555555555555556,
              "#d8576b"
             ],
             [
              0.6666666666666666,
              "#ed7953"
             ],
             [
              0.7777777777777778,
              "#fb9f3a"
             ],
             [
              0.8888888888888888,
              "#fdca26"
             ],
             [
              1,
              "#f0f921"
             ]
            ],
            "type": "contour"
           }
          ],
          "contourcarpet": [
           {
            "colorbar": {
             "outlinewidth": 0,
             "ticks": ""
            },
            "type": "contourcarpet"
           }
          ],
          "heatmap": [
           {
            "colorbar": {
             "outlinewidth": 0,
             "ticks": ""
            },
            "colorscale": [
             [
              0,
              "#0d0887"
             ],
             [
              0.1111111111111111,
              "#46039f"
             ],
             [
              0.2222222222222222,
              "#7201a8"
             ],
             [
              0.3333333333333333,
              "#9c179e"
             ],
             [
              0.4444444444444444,
              "#bd3786"
             ],
             [
              0.5555555555555556,
              "#d8576b"
             ],
             [
              0.6666666666666666,
              "#ed7953"
             ],
             [
              0.7777777777777778,
              "#fb9f3a"
             ],
             [
              0.8888888888888888,
              "#fdca26"
             ],
             [
              1,
              "#f0f921"
             ]
            ],
            "type": "heatmap"
           }
          ],
          "histogram": [
           {
            "marker": {
             "pattern": {
              "fillmode": "overlay",
              "size": 10,
              "solidity": 0.2
             }
            },
            "type": "histogram"
           }
          ],
          "histogram2d": [
           {
            "colorbar": {
             "outlinewidth": 0,
             "ticks": ""
            },
            "colorscale": [
             [
              0,
              "#0d0887"
             ],
             [
              0.1111111111111111,
              "#46039f"
             ],
             [
              0.2222222222222222,
              "#7201a8"
             ],
             [
              0.3333333333333333,
              "#9c179e"
             ],
             [
              0.4444444444444444,
              "#bd3786"
             ],
             [
              0.5555555555555556,
              "#d8576b"
             ],
             [
              0.6666666666666666,
              "#ed7953"
             ],
             [
              0.7777777777777778,
              "#fb9f3a"
             ],
             [
              0.8888888888888888,
              "#fdca26"
             ],
             [
              1,
              "#f0f921"
             ]
            ],
            "type": "histogram2d"
           }
          ],
          "histogram2dcontour": [
           {
            "colorbar": {
             "outlinewidth": 0,
             "ticks": ""
            },
            "colorscale": [
             [
              0,
              "#0d0887"
             ],
             [
              0.1111111111111111,
              "#46039f"
             ],
             [
              0.2222222222222222,
              "#7201a8"
             ],
             [
              0.3333333333333333,
              "#9c179e"
             ],
             [
              0.4444444444444444,
              "#bd3786"
             ],
             [
              0.5555555555555556,
              "#d8576b"
             ],
             [
              0.6666666666666666,
              "#ed7953"
             ],
             [
              0.7777777777777778,
              "#fb9f3a"
             ],
             [
              0.8888888888888888,
              "#fdca26"
             ],
             [
              1,
              "#f0f921"
             ]
            ],
            "type": "histogram2dcontour"
           }
          ],
          "mesh3d": [
           {
            "colorbar": {
             "outlinewidth": 0,
             "ticks": ""
            },
            "type": "mesh3d"
           }
          ],
          "parcoords": [
           {
            "line": {
             "colorbar": {
              "outlinewidth": 0,
              "ticks": ""
             }
            },
            "type": "parcoords"
           }
          ],
          "pie": [
           {
            "automargin": true,
            "type": "pie"
           }
          ],
          "scatter": [
           {
            "fillpattern": {
             "fillmode": "overlay",
             "size": 10,
             "solidity": 0.2
            },
            "type": "scatter"
           }
          ],
          "scatter3d": [
           {
            "line": {
             "colorbar": {
              "outlinewidth": 0,
              "ticks": ""
             }
            },
            "marker": {
             "colorbar": {
              "outlinewidth": 0,
              "ticks": ""
             }
            },
            "type": "scatter3d"
           }
          ],
          "scattercarpet": [
           {
            "marker": {
             "colorbar": {
              "outlinewidth": 0,
              "ticks": ""
             }
            },
            "type": "scattercarpet"
           }
          ],
          "scattergeo": [
           {
            "marker": {
             "colorbar": {
              "outlinewidth": 0,
              "ticks": ""
             }
            },
            "type": "scattergeo"
           }
          ],
          "scattergl": [
           {
            "marker": {
             "colorbar": {
              "outlinewidth": 0,
              "ticks": ""
             }
            },
            "type": "scattergl"
           }
          ],
          "scattermap": [
           {
            "marker": {
             "colorbar": {
              "outlinewidth": 0,
              "ticks": ""
             }
            },
            "type": "scattermap"
           }
          ],
          "scattermapbox": [
           {
            "marker": {
             "colorbar": {
              "outlinewidth": 0,
              "ticks": ""
             }
            },
            "type": "scattermapbox"
           }
          ],
          "scatterpolar": [
           {
            "marker": {
             "colorbar": {
              "outlinewidth": 0,
              "ticks": ""
             }
            },
            "type": "scatterpolar"
           }
          ],
          "scatterpolargl": [
           {
            "marker": {
             "colorbar": {
              "outlinewidth": 0,
              "ticks": ""
             }
            },
            "type": "scatterpolargl"
           }
          ],
          "scatterternary": [
           {
            "marker": {
             "colorbar": {
              "outlinewidth": 0,
              "ticks": ""
             }
            },
            "type": "scatterternary"
           }
          ],
          "surface": [
           {
            "colorbar": {
             "outlinewidth": 0,
             "ticks": ""
            },
            "colorscale": [
             [
              0,
              "#0d0887"
             ],
             [
              0.1111111111111111,
              "#46039f"
             ],
             [
              0.2222222222222222,
              "#7201a8"
             ],
             [
              0.3333333333333333,
              "#9c179e"
             ],
             [
              0.4444444444444444,
              "#bd3786"
             ],
             [
              0.5555555555555556,
              "#d8576b"
             ],
             [
              0.6666666666666666,
              "#ed7953"
             ],
             [
              0.7777777777777778,
              "#fb9f3a"
             ],
             [
              0.8888888888888888,
              "#fdca26"
             ],
             [
              1,
              "#f0f921"
             ]
            ],
            "type": "surface"
           }
          ],
          "table": [
           {
            "cells": {
             "fill": {
              "color": "#EBF0F8"
             },
             "line": {
              "color": "white"
             }
            },
            "header": {
             "fill": {
              "color": "#C8D4E3"
             },
             "line": {
              "color": "white"
             }
            },
            "type": "table"
           }
          ]
         },
         "layout": {
          "annotationdefaults": {
           "arrowcolor": "#2a3f5f",
           "arrowhead": 0,
           "arrowwidth": 1
          },
          "autotypenumbers": "strict",
          "coloraxis": {
           "colorbar": {
            "outlinewidth": 0,
            "ticks": ""
           }
          },
          "colorscale": {
           "diverging": [
            [
             0,
             "#8e0152"
            ],
            [
             0.1,
             "#c51b7d"
            ],
            [
             0.2,
             "#de77ae"
            ],
            [
             0.3,
             "#f1b6da"
            ],
            [
             0.4,
             "#fde0ef"
            ],
            [
             0.5,
             "#f7f7f7"
            ],
            [
             0.6,
             "#e6f5d0"
            ],
            [
             0.7,
             "#b8e186"
            ],
            [
             0.8,
             "#7fbc41"
            ],
            [
             0.9,
             "#4d9221"
            ],
            [
             1,
             "#276419"
            ]
           ],
           "sequential": [
            [
             0,
             "#0d0887"
            ],
            [
             0.1111111111111111,
             "#46039f"
            ],
            [
             0.2222222222222222,
             "#7201a8"
            ],
            [
             0.3333333333333333,
             "#9c179e"
            ],
            [
             0.4444444444444444,
             "#bd3786"
            ],
            [
             0.5555555555555556,
             "#d8576b"
            ],
            [
             0.6666666666666666,
             "#ed7953"
            ],
            [
             0.7777777777777778,
             "#fb9f3a"
            ],
            [
             0.8888888888888888,
             "#fdca26"
            ],
            [
             1,
             "#f0f921"
            ]
           ],
           "sequentialminus": [
            [
             0,
             "#0d0887"
            ],
            [
             0.1111111111111111,
             "#46039f"
            ],
            [
             0.2222222222222222,
             "#7201a8"
            ],
            [
             0.3333333333333333,
             "#9c179e"
            ],
            [
             0.4444444444444444,
             "#bd3786"
            ],
            [
             0.5555555555555556,
             "#d8576b"
            ],
            [
             0.6666666666666666,
             "#ed7953"
            ],
            [
             0.7777777777777778,
             "#fb9f3a"
            ],
            [
             0.8888888888888888,
             "#fdca26"
            ],
            [
             1,
             "#f0f921"
            ]
           ]
          },
          "colorway": [
           "#636efa",
           "#EF553B",
           "#00cc96",
           "#ab63fa",
           "#FFA15A",
           "#19d3f3",
           "#FF6692",
           "#B6E880",
           "#FF97FF",
           "#FECB52"
          ],
          "font": {
           "color": "#2a3f5f"
          },
          "geo": {
           "bgcolor": "white",
           "lakecolor": "white",
           "landcolor": "#E5ECF6",
           "showlakes": true,
           "showland": true,
           "subunitcolor": "white"
          },
          "hoverlabel": {
           "align": "left"
          },
          "hovermode": "closest",
          "mapbox": {
           "style": "light"
          },
          "paper_bgcolor": "white",
          "plot_bgcolor": "#E5ECF6",
          "polar": {
           "angularaxis": {
            "gridcolor": "white",
            "linecolor": "white",
            "ticks": ""
           },
           "bgcolor": "#E5ECF6",
           "radialaxis": {
            "gridcolor": "white",
            "linecolor": "white",
            "ticks": ""
           }
          },
          "scene": {
           "xaxis": {
            "backgroundcolor": "#E5ECF6",
            "gridcolor": "white",
            "gridwidth": 2,
            "linecolor": "white",
            "showbackground": true,
            "ticks": "",
            "zerolinecolor": "white"
           },
           "yaxis": {
            "backgroundcolor": "#E5ECF6",
            "gridcolor": "white",
            "gridwidth": 2,
            "linecolor": "white",
            "showbackground": true,
            "ticks": "",
            "zerolinecolor": "white"
           },
           "zaxis": {
            "backgroundcolor": "#E5ECF6",
            "gridcolor": "white",
            "gridwidth": 2,
            "linecolor": "white",
            "showbackground": true,
            "ticks": "",
            "zerolinecolor": "white"
           }
          },
          "shapedefaults": {
           "line": {
            "color": "#2a3f5f"
           }
          },
          "ternary": {
           "aaxis": {
            "gridcolor": "white",
            "linecolor": "white",
            "ticks": ""
           },
           "baxis": {
            "gridcolor": "white",
            "linecolor": "white",
            "ticks": ""
           },
           "bgcolor": "#E5ECF6",
           "caxis": {
            "gridcolor": "white",
            "linecolor": "white",
            "ticks": ""
           }
          },
          "title": {
           "x": 0.05
          },
          "xaxis": {
           "automargin": true,
           "gridcolor": "white",
           "linecolor": "white",
           "ticks": "",
           "title": {
            "standoff": 15
           },
           "zerolinecolor": "white",
           "zerolinewidth": 2
          },
          "yaxis": {
           "automargin": true,
           "gridcolor": "white",
           "linecolor": "white",
           "ticks": "",
           "title": {
            "standoff": 15
           },
           "zerolinecolor": "white",
           "zerolinewidth": 2
          }
         }
        },
        "width": 800,
        "xaxis": {
         "anchor": "y",
         "domain": [
          0,
          1
         ],
         "title": {
          "text": "Token"
         }
        },
        "yaxis": {
         "anchor": "x",
         "domain": [
          0,
          1
         ],
         "title": {
          "text": "Frequency"
         }
        }
       }
      }
     },
     "metadata": {},
     "output_type": "display_data"
    },
    {
     "name": "stdout",
     "output_type": "stream",
     "text": [
      "62 ['\\n', ' ', '!', '\"', \"'\", '(', ')', ',', '-', '.', ':', ';', '?', 'A', 'B', 'C', 'D', 'E', 'F', 'G', 'H', 'I', 'J', 'L', 'M', 'N', 'O', 'P', 'R', 'S', 'T', 'U', 'V', 'W', 'Y', '_', 'a', 'b', 'c', 'd', 'e', 'f', 'g', 'h', 'i', 'j', 'k', 'l', 'm', 'n', 'o', 'p', 'q', 'r', 's', 't', 'u', 'v', 'w', 'x', 'y', 'z']\n",
      "[43, 44, 7, 1, 43, 50, 58, 1, 36, 53, 40, 1, 60, 50, 56, 12]\n",
      "hi, how are you?\n",
      "Compression ratio 1.0\n"
     ]
    },
    {
     "data": {
      "application/vnd.plotly.v1+json": {
       "config": {
        "plotlyServerURL": "https://plot.ly"
       },
       "data": [
        {
         "hovertemplate": "Token=%{x}<br>Frequency=%{y}<extra></extra>",
         "legendgroup": "",
         "marker": {
          "color": "#636efa",
          "pattern": {
           "shape": ""
          }
         },
         "name": "",
         "orientation": "v",
         "showlegend": false,
         "textposition": "auto",
         "type": "bar",
         "x": [
          "\n",
          " ",
          "!",
          "\"",
          "'",
          "(",
          ")",
          ",",
          "-",
          ".",
          ":",
          ";",
          "?",
          "A",
          "B",
          "C",
          "D",
          "E",
          "F",
          "G",
          "H",
          "I",
          "J",
          "L",
          "M",
          "N",
          "O",
          "P",
          "R",
          "S",
          "T",
          "U",
          "V",
          "W",
          "Y",
          "_",
          "a",
          "b",
          "c",
          "d",
          "e",
          "f",
          "g",
          "h",
          "i",
          "j",
          "k",
          "l",
          "m",
          "n",
          "o",
          "p",
          "q",
          "r",
          "s",
          "t",
          "u",
          "v",
          "w",
          "x",
          "y",
          "z"
         ],
         "xaxis": "x",
         "y": {
          "bdata": "pADfDRgAiQBeAAMAAwDlAOgA1AAVABYAGAATABAACQAHAAEABAAeABsAjQATAAEAIwAFABAABQANAB4AIwABAAMAEAAIACQA2wTzAHkBywJfB0kBOgHnAwgEFwCQAEUCagEDBEYE/gATAEAD4QOrBRMCjwBoARQANQEEAA==",
          "dtype": "i2"
         },
         "yaxis": "y"
        }
       ],
       "layout": {
        "barmode": "relative",
        "height": 300,
        "legend": {
         "tracegroupgap": 0
        },
        "margin": {
         "t": 60
        },
        "template": {
         "data": {
          "bar": [
           {
            "error_x": {
             "color": "#2a3f5f"
            },
            "error_y": {
             "color": "#2a3f5f"
            },
            "marker": {
             "line": {
              "color": "#E5ECF6",
              "width": 0.5
             },
             "pattern": {
              "fillmode": "overlay",
              "size": 10,
              "solidity": 0.2
             }
            },
            "type": "bar"
           }
          ],
          "barpolar": [
           {
            "marker": {
             "line": {
              "color": "#E5ECF6",
              "width": 0.5
             },
             "pattern": {
              "fillmode": "overlay",
              "size": 10,
              "solidity": 0.2
             }
            },
            "type": "barpolar"
           }
          ],
          "carpet": [
           {
            "aaxis": {
             "endlinecolor": "#2a3f5f",
             "gridcolor": "white",
             "linecolor": "white",
             "minorgridcolor": "white",
             "startlinecolor": "#2a3f5f"
            },
            "baxis": {
             "endlinecolor": "#2a3f5f",
             "gridcolor": "white",
             "linecolor": "white",
             "minorgridcolor": "white",
             "startlinecolor": "#2a3f5f"
            },
            "type": "carpet"
           }
          ],
          "choropleth": [
           {
            "colorbar": {
             "outlinewidth": 0,
             "ticks": ""
            },
            "type": "choropleth"
           }
          ],
          "contour": [
           {
            "colorbar": {
             "outlinewidth": 0,
             "ticks": ""
            },
            "colorscale": [
             [
              0,
              "#0d0887"
             ],
             [
              0.1111111111111111,
              "#46039f"
             ],
             [
              0.2222222222222222,
              "#7201a8"
             ],
             [
              0.3333333333333333,
              "#9c179e"
             ],
             [
              0.4444444444444444,
              "#bd3786"
             ],
             [
              0.5555555555555556,
              "#d8576b"
             ],
             [
              0.6666666666666666,
              "#ed7953"
             ],
             [
              0.7777777777777778,
              "#fb9f3a"
             ],
             [
              0.8888888888888888,
              "#fdca26"
             ],
             [
              1,
              "#f0f921"
             ]
            ],
            "type": "contour"
           }
          ],
          "contourcarpet": [
           {
            "colorbar": {
             "outlinewidth": 0,
             "ticks": ""
            },
            "type": "contourcarpet"
           }
          ],
          "heatmap": [
           {
            "colorbar": {
             "outlinewidth": 0,
             "ticks": ""
            },
            "colorscale": [
             [
              0,
              "#0d0887"
             ],
             [
              0.1111111111111111,
              "#46039f"
             ],
             [
              0.2222222222222222,
              "#7201a8"
             ],
             [
              0.3333333333333333,
              "#9c179e"
             ],
             [
              0.4444444444444444,
              "#bd3786"
             ],
             [
              0.5555555555555556,
              "#d8576b"
             ],
             [
              0.6666666666666666,
              "#ed7953"
             ],
             [
              0.7777777777777778,
              "#fb9f3a"
             ],
             [
              0.8888888888888888,
              "#fdca26"
             ],
             [
              1,
              "#f0f921"
             ]
            ],
            "type": "heatmap"
           }
          ],
          "histogram": [
           {
            "marker": {
             "pattern": {
              "fillmode": "overlay",
              "size": 10,
              "solidity": 0.2
             }
            },
            "type": "histogram"
           }
          ],
          "histogram2d": [
           {
            "colorbar": {
             "outlinewidth": 0,
             "ticks": ""
            },
            "colorscale": [
             [
              0,
              "#0d0887"
             ],
             [
              0.1111111111111111,
              "#46039f"
             ],
             [
              0.2222222222222222,
              "#7201a8"
             ],
             [
              0.3333333333333333,
              "#9c179e"
             ],
             [
              0.4444444444444444,
              "#bd3786"
             ],
             [
              0.5555555555555556,
              "#d8576b"
             ],
             [
              0.6666666666666666,
              "#ed7953"
             ],
             [
              0.7777777777777778,
              "#fb9f3a"
             ],
             [
              0.8888888888888888,
              "#fdca26"
             ],
             [
              1,
              "#f0f921"
             ]
            ],
            "type": "histogram2d"
           }
          ],
          "histogram2dcontour": [
           {
            "colorbar": {
             "outlinewidth": 0,
             "ticks": ""
            },
            "colorscale": [
             [
              0,
              "#0d0887"
             ],
             [
              0.1111111111111111,
              "#46039f"
             ],
             [
              0.2222222222222222,
              "#7201a8"
             ],
             [
              0.3333333333333333,
              "#9c179e"
             ],
             [
              0.4444444444444444,
              "#bd3786"
             ],
             [
              0.5555555555555556,
              "#d8576b"
             ],
             [
              0.6666666666666666,
              "#ed7953"
             ],
             [
              0.7777777777777778,
              "#fb9f3a"
             ],
             [
              0.8888888888888888,
              "#fdca26"
             ],
             [
              1,
              "#f0f921"
             ]
            ],
            "type": "histogram2dcontour"
           }
          ],
          "mesh3d": [
           {
            "colorbar": {
             "outlinewidth": 0,
             "ticks": ""
            },
            "type": "mesh3d"
           }
          ],
          "parcoords": [
           {
            "line": {
             "colorbar": {
              "outlinewidth": 0,
              "ticks": ""
             }
            },
            "type": "parcoords"
           }
          ],
          "pie": [
           {
            "automargin": true,
            "type": "pie"
           }
          ],
          "scatter": [
           {
            "fillpattern": {
             "fillmode": "overlay",
             "size": 10,
             "solidity": 0.2
            },
            "type": "scatter"
           }
          ],
          "scatter3d": [
           {
            "line": {
             "colorbar": {
              "outlinewidth": 0,
              "ticks": ""
             }
            },
            "marker": {
             "colorbar": {
              "outlinewidth": 0,
              "ticks": ""
             }
            },
            "type": "scatter3d"
           }
          ],
          "scattercarpet": [
           {
            "marker": {
             "colorbar": {
              "outlinewidth": 0,
              "ticks": ""
             }
            },
            "type": "scattercarpet"
           }
          ],
          "scattergeo": [
           {
            "marker": {
             "colorbar": {
              "outlinewidth": 0,
              "ticks": ""
             }
            },
            "type": "scattergeo"
           }
          ],
          "scattergl": [
           {
            "marker": {
             "colorbar": {
              "outlinewidth": 0,
              "ticks": ""
             }
            },
            "type": "scattergl"
           }
          ],
          "scattermap": [
           {
            "marker": {
             "colorbar": {
              "outlinewidth": 0,
              "ticks": ""
             }
            },
            "type": "scattermap"
           }
          ],
          "scattermapbox": [
           {
            "marker": {
             "colorbar": {
              "outlinewidth": 0,
              "ticks": ""
             }
            },
            "type": "scattermapbox"
           }
          ],
          "scatterpolar": [
           {
            "marker": {
             "colorbar": {
              "outlinewidth": 0,
              "ticks": ""
             }
            },
            "type": "scatterpolar"
           }
          ],
          "scatterpolargl": [
           {
            "marker": {
             "colorbar": {
              "outlinewidth": 0,
              "ticks": ""
             }
            },
            "type": "scatterpolargl"
           }
          ],
          "scatterternary": [
           {
            "marker": {
             "colorbar": {
              "outlinewidth": 0,
              "ticks": ""
             }
            },
            "type": "scatterternary"
           }
          ],
          "surface": [
           {
            "colorbar": {
             "outlinewidth": 0,
             "ticks": ""
            },
            "colorscale": [
             [
              0,
              "#0d0887"
             ],
             [
              0.1111111111111111,
              "#46039f"
             ],
             [
              0.2222222222222222,
              "#7201a8"
             ],
             [
              0.3333333333333333,
              "#9c179e"
             ],
             [
              0.4444444444444444,
              "#bd3786"
             ],
             [
              0.5555555555555556,
              "#d8576b"
             ],
             [
              0.6666666666666666,
              "#ed7953"
             ],
             [
              0.7777777777777778,
              "#fb9f3a"
             ],
             [
              0.8888888888888888,
              "#fdca26"
             ],
             [
              1,
              "#f0f921"
             ]
            ],
            "type": "surface"
           }
          ],
          "table": [
           {
            "cells": {
             "fill": {
              "color": "#EBF0F8"
             },
             "line": {
              "color": "white"
             }
            },
            "header": {
             "fill": {
              "color": "#C8D4E3"
             },
             "line": {
              "color": "white"
             }
            },
            "type": "table"
           }
          ]
         },
         "layout": {
          "annotationdefaults": {
           "arrowcolor": "#2a3f5f",
           "arrowhead": 0,
           "arrowwidth": 1
          },
          "autotypenumbers": "strict",
          "coloraxis": {
           "colorbar": {
            "outlinewidth": 0,
            "ticks": ""
           }
          },
          "colorscale": {
           "diverging": [
            [
             0,
             "#8e0152"
            ],
            [
             0.1,
             "#c51b7d"
            ],
            [
             0.2,
             "#de77ae"
            ],
            [
             0.3,
             "#f1b6da"
            ],
            [
             0.4,
             "#fde0ef"
            ],
            [
             0.5,
             "#f7f7f7"
            ],
            [
             0.6,
             "#e6f5d0"
            ],
            [
             0.7,
             "#b8e186"
            ],
            [
             0.8,
             "#7fbc41"
            ],
            [
             0.9,
             "#4d9221"
            ],
            [
             1,
             "#276419"
            ]
           ],
           "sequential": [
            [
             0,
             "#0d0887"
            ],
            [
             0.1111111111111111,
             "#46039f"
            ],
            [
             0.2222222222222222,
             "#7201a8"
            ],
            [
             0.3333333333333333,
             "#9c179e"
            ],
            [
             0.4444444444444444,
             "#bd3786"
            ],
            [
             0.5555555555555556,
             "#d8576b"
            ],
            [
             0.6666666666666666,
             "#ed7953"
            ],
            [
             0.7777777777777778,
             "#fb9f3a"
            ],
            [
             0.8888888888888888,
             "#fdca26"
            ],
            [
             1,
             "#f0f921"
            ]
           ],
           "sequentialminus": [
            [
             0,
             "#0d0887"
            ],
            [
             0.1111111111111111,
             "#46039f"
            ],
            [
             0.2222222222222222,
             "#7201a8"
            ],
            [
             0.3333333333333333,
             "#9c179e"
            ],
            [
             0.4444444444444444,
             "#bd3786"
            ],
            [
             0.5555555555555556,
             "#d8576b"
            ],
            [
             0.6666666666666666,
             "#ed7953"
            ],
            [
             0.7777777777777778,
             "#fb9f3a"
            ],
            [
             0.8888888888888888,
             "#fdca26"
            ],
            [
             1,
             "#f0f921"
            ]
           ]
          },
          "colorway": [
           "#636efa",
           "#EF553B",
           "#00cc96",
           "#ab63fa",
           "#FFA15A",
           "#19d3f3",
           "#FF6692",
           "#B6E880",
           "#FF97FF",
           "#FECB52"
          ],
          "font": {
           "color": "#2a3f5f"
          },
          "geo": {
           "bgcolor": "white",
           "lakecolor": "white",
           "landcolor": "#E5ECF6",
           "showlakes": true,
           "showland": true,
           "subunitcolor": "white"
          },
          "hoverlabel": {
           "align": "left"
          },
          "hovermode": "closest",
          "mapbox": {
           "style": "light"
          },
          "paper_bgcolor": "white",
          "plot_bgcolor": "#E5ECF6",
          "polar": {
           "angularaxis": {
            "gridcolor": "white",
            "linecolor": "white",
            "ticks": ""
           },
           "bgcolor": "#E5ECF6",
           "radialaxis": {
            "gridcolor": "white",
            "linecolor": "white",
            "ticks": ""
           }
          },
          "scene": {
           "xaxis": {
            "backgroundcolor": "#E5ECF6",
            "gridcolor": "white",
            "gridwidth": 2,
            "linecolor": "white",
            "showbackground": true,
            "ticks": "",
            "zerolinecolor": "white"
           },
           "yaxis": {
            "backgroundcolor": "#E5ECF6",
            "gridcolor": "white",
            "gridwidth": 2,
            "linecolor": "white",
            "showbackground": true,
            "ticks": "",
            "zerolinecolor": "white"
           },
           "zaxis": {
            "backgroundcolor": "#E5ECF6",
            "gridcolor": "white",
            "gridwidth": 2,
            "linecolor": "white",
            "showbackground": true,
            "ticks": "",
            "zerolinecolor": "white"
           }
          },
          "shapedefaults": {
           "line": {
            "color": "#2a3f5f"
           }
          },
          "ternary": {
           "aaxis": {
            "gridcolor": "white",
            "linecolor": "white",
            "ticks": ""
           },
           "baxis": {
            "gridcolor": "white",
            "linecolor": "white",
            "ticks": ""
           },
           "bgcolor": "#E5ECF6",
           "caxis": {
            "gridcolor": "white",
            "linecolor": "white",
            "ticks": ""
           }
          },
          "title": {
           "x": 0.05
          },
          "xaxis": {
           "automargin": true,
           "gridcolor": "white",
           "linecolor": "white",
           "ticks": "",
           "title": {
            "standoff": 15
           },
           "zerolinecolor": "white",
           "zerolinewidth": 2
          },
          "yaxis": {
           "automargin": true,
           "gridcolor": "white",
           "linecolor": "white",
           "ticks": "",
           "title": {
            "standoff": 15
           },
           "zerolinecolor": "white",
           "zerolinewidth": 2
          }
         }
        },
        "width": 800,
        "xaxis": {
         "anchor": "y",
         "domain": [
          0,
          1
         ],
         "title": {
          "text": "Token"
         }
        },
        "yaxis": {
         "anchor": "x",
         "domain": [
          0,
          1
         ],
         "title": {
          "text": "Frequency"
         }
        }
       }
      }
     },
     "metadata": {},
     "output_type": "display_data"
    }
   ],
   "source": [
    "class CharTokenizer:\n",
    "    def __init__(self, training_data: str = \"the quick brown fox jumps over the lazy dog\"):\n",
    "        self.training_data = training_data\n",
    "        self.fit()\n",
    "\n",
    "    def fit(self):\n",
    "        self.vocab = sorted(set(self.training_data))\n",
    "        self.char_to_id = {char: idx for idx, char in enumerate(self.vocab)}\n",
    "        self.id_to_char = {idx: char for idx, char in enumerate(self.vocab)}\n",
    "        self.vocab_size = len(self.vocab)\n",
    "\n",
    "    def plot_token_distribution(self):\n",
    "        counter = defaultdict(int)\n",
    "        for token in self.encode(self.training_data):\n",
    "            counter[token] += 1\n",
    "        freq = [counter[self.char_to_id[char]] for char in self.vocab]\n",
    "        fig = px.bar(x=self.vocab, y=freq, labels={'x': 'Token', 'y': 'Frequency'}, width=800, height=300)\n",
    "        fig.show()\n",
    "\n",
    "    def get_compression_ratio(self):\n",
    "        num_bytes = len(bytes(self.training_data, encoding=\"utf-8\"))\n",
    "        num_tokens = len(self.encode(self.training_data))\n",
    "        return num_bytes / num_tokens\n",
    "\n",
    "    def encode(self, text: str):\n",
    "        return [self.char_to_id[char] if char in self.char_to_id else '<unk>' for char in text]\n",
    "\n",
    "    def decode(self, ids: list):\n",
    "        return ''.join([self.id_to_char[id_] if type(id_) is int else '<unk>' for id_ in ids])\n",
    "\n",
    "tk = CharTokenizer()\n",
    "print(tk.vocab_size, tk.vocab)\n",
    "print(tk.encode(\"hi, how are you?\"))\n",
    "print(tk.decode(tk.encode(\"hi, how are you?\")))\n",
    "print('Compression ratio', tk.get_compression_ratio())\n",
    "tk.plot_token_distribution()\n",
    "\n",
    "with open(\"./data/the-verdict.txt\", \"r\") as f:\n",
    "    data = f.read()\n",
    "tk = CharTokenizer(data)\n",
    "print(tk.vocab_size, tk.vocab)\n",
    "print(tk.encode(\"hi, how are you?\"))\n",
    "print(tk.decode(tk.encode(\"hi, how are you?\")))\n",
    "print('Compression ratio', tk.get_compression_ratio())\n",
    "tk.plot_token_distribution()"
   ]
  },
  {
   "cell_type": "markdown",
   "metadata": {},
   "source": [
    "As you can see here vocab sizes are quite small (<100) and the token distribution is quite skewed. This might not be bad for small language models, but if we want to train language models with more and more text, a small vocab size would lead to a very high sequence length which may not be ideal. On the other hand, a very high vocab size can hit curse of dimensionality. \n",
    "\n",
    "We thus use a term called compression ratio, which you see above. It is an expected ratio of number of tokens we generate as a sequence for an input text with respect to the byte count of the input. A higher compression ratio shows that our training data would not be as long for us to train with.\n",
    "\n",
    "Hence, we need a controlled measure for tokenization. One of the ways to do this is use Byte-Pair-Encoding (BPE). Basically, you start with a byte level tokenizer which maps each byte to a new token, hence giving a vocab size of 256. To increase the vocab size in a controlled manner that leads to the highest uplift in the compression ratio, we find the pair of two bytes in the training data that appear the most frequently and allocate a new token for them. We continue this until we get a high enough vocab size and a decent compression ratio. \n",
    "\n",
    "\n",
    "References: [Stanford CS336 lecture 1](https://www.youtube.com/watch?v=SQ3fZ1sAqXI&list=PLoROMvodv4rOY23Y0BoGoBGgQ1zmU_MT_), [Andrey Karpathy's video](https://www.youtube.com/watch?v=zduSFxRajkE), [TikTokenizer Visualization](https://tiktokenizer.vercel.app/)."
   ]
  },
  {
   "cell_type": "code",
   "execution_count": 3,
   "metadata": {},
   "outputs": [
    {
     "data": {
      "application/vnd.jupyter.widget-view+json": {
       "model_id": "121320ce97e04ba49f896395b90fd476",
       "version_major": 2,
       "version_minor": 0
      },
      "text/plain": [
       "Output()"
      ]
     },
     "metadata": {},
     "output_type": "display_data"
    },
    {
     "data": {
      "text/html": [
       "<pre style=\"white-space:pre;overflow-x:auto;line-height:normal;font-family:Menlo,'DejaVu Sans Mono',consolas,'Courier New',monospace\">Training data so far ['t', 'h', 'e', ' ', 'q', 'u', 'i', 'c', 'k', ' ', 'b', 'r', 'o', 'w', 'n', ' ', 'f', 'o', \n",
       "'x', ' ', 'j', 'u', 'm', 'p', 's', ' ', 'o', 'v', 'e', 'r', ' ', 't', 'h', 'e', ' ', 'l', 'a', 'z', 'y', ' ', 'd', \n",
       "'o', 'g']\n",
       "</pre>\n"
      ],
      "text/plain": [
       "Training data so far ['t', 'h', 'e', ' ', 'q', 'u', 'i', 'c', 'k', ' ', 'b', 'r', 'o', 'w', 'n', ' ', 'f', 'o', \n",
       "'x', ' ', 'j', 'u', 'm', 'p', 's', ' ', 'o', 'v', 'e', 'r', ' ', 't', 'h', 'e', ' ', 'l', 'a', 'z', 'y', ' ', 'd', \n",
       "'o', 'g']\n"
      ]
     },
     "metadata": {},
     "output_type": "display_data"
    },
    {
     "data": {
      "text/html": [
       "<pre style=\"white-space:pre;overflow-x:auto;line-height:normal;font-family:Menlo,'DejaVu Sans Mono',consolas,'Courier New',monospace\">Top 10 pairs [('t', 'h', 2), ('h', 'e', 2), ('e', ' ', 2), (' ', 'q', 1), ('q', 'u', 1), ('u', 'i', 1), ('i', 'c', \n",
       "1), ('c', 'k', 1), ('k', ' ', 1), (' ', 'b', 1)]\n",
       "</pre>\n"
      ],
      "text/plain": [
       "Top 10 pairs [('t', 'h', 2), ('h', 'e', 2), ('e', ' ', 2), (' ', 'q', 1), ('q', 'u', 1), ('u', 'i', 1), ('i', 'c', \n",
       "1), ('c', 'k', 1), ('k', ' ', 1), (' ', 'b', 1)]\n"
      ]
     },
     "metadata": {},
     "output_type": "display_data"
    },
    {
     "data": {
      "text/html": [
       "<pre style=\"white-space:pre;overflow-x:auto;line-height:normal;font-family:Menlo,'DejaVu Sans Mono',consolas,'Courier New',monospace\">New token \"th\"\n",
       "</pre>\n"
      ],
      "text/plain": [
       "New token \"th\"\n"
      ]
     },
     "metadata": {},
     "output_type": "display_data"
    },
    {
     "data": {
      "text/html": [
       "<pre style=\"white-space:pre;overflow-x:auto;line-height:normal;font-family:Menlo,'DejaVu Sans Mono',consolas,'Courier New',monospace\">Training data so far ['th', 'e', ' ', 'q', 'u', 'i', 'c', 'k', ' ', 'b', 'r', 'o', 'w', 'n', ' ', 'f', 'o', 'x', ' \n",
       "', 'j', 'u', 'm', 'p', 's', ' ', 'o', 'v', 'e', 'r', ' ', 'th', 'e', ' ', 'l', 'a', 'z', 'y', ' ', 'd', 'o', 'g']\n",
       "</pre>\n"
      ],
      "text/plain": [
       "Training data so far ['th', 'e', ' ', 'q', 'u', 'i', 'c', 'k', ' ', 'b', 'r', 'o', 'w', 'n', ' ', 'f', 'o', 'x', ' \n",
       "', 'j', 'u', 'm', 'p', 's', ' ', 'o', 'v', 'e', 'r', ' ', 'th', 'e', ' ', 'l', 'a', 'z', 'y', ' ', 'd', 'o', 'g']\n"
      ]
     },
     "metadata": {},
     "output_type": "display_data"
    },
    {
     "data": {
      "text/html": [
       "<pre style=\"white-space:pre;overflow-x:auto;line-height:normal;font-family:Menlo,'DejaVu Sans Mono',consolas,'Courier New',monospace\">Top 10 pairs [('th', 'e', 2), ('e', ' ', 2), (' ', 'q', 1), ('q', 'u', 1), ('u', 'i', 1), ('i', 'c', 1), ('c', 'k',\n",
       "1), ('k', ' ', 1), (' ', 'b', 1), ('b', 'r', 1)]\n",
       "</pre>\n"
      ],
      "text/plain": [
       "Top 10 pairs [('th', 'e', 2), ('e', ' ', 2), (' ', 'q', 1), ('q', 'u', 1), ('u', 'i', 1), ('i', 'c', 1), ('c', 'k',\n",
       "1), ('k', ' ', 1), (' ', 'b', 1), ('b', 'r', 1)]\n"
      ]
     },
     "metadata": {},
     "output_type": "display_data"
    },
    {
     "data": {
      "text/html": [
       "<pre style=\"white-space:pre;overflow-x:auto;line-height:normal;font-family:Menlo,'DejaVu Sans Mono',consolas,'Courier New',monospace\">New token \"the\"\n",
       "</pre>\n"
      ],
      "text/plain": [
       "New token \"the\"\n"
      ]
     },
     "metadata": {},
     "output_type": "display_data"
    },
    {
     "data": {
      "text/html": [
       "<pre style=\"white-space:pre;overflow-x:auto;line-height:normal;font-family:Menlo,'DejaVu Sans Mono',consolas,'Courier New',monospace\"></pre>\n"
      ],
      "text/plain": []
     },
     "metadata": {},
     "output_type": "display_data"
    }
   ],
   "source": [
    "from rich.progress import track\n",
    "\n",
    "class BPETokenizer(CharTokenizer):\n",
    "    def __init__(self, training_data: str = \"the quick brown fox jumps over the lazy dog\", num_merges: int = 10, verbose=False):\n",
    "        self.num_merges = num_merges\n",
    "        self.verbose = verbose\n",
    "        super().__init__(training_data)\n",
    "\n",
    "    def fit(self):\n",
    "        self.training_data_bytes = list(self.training_data.encode('utf-8'))\n",
    "        self.vocab_size = 256\n",
    "        self.vocab = [chr(i) for i in range(self.vocab_size)]\n",
    "        self.char_to_id = {char: idx for idx, char in enumerate(self.vocab)}\n",
    "        self.id_to_char = {idx: char for idx, char in enumerate(self.vocab)}\n",
    "        self.compression_ratios = [1.0] \n",
    "\n",
    "        for _ in track(range(self.num_merges), description=\"Training BPE...\"):\n",
    "            pair_counts = defaultdict(int)\n",
    "            \n",
    "            # count pairs\n",
    "            for i in range(len(self.training_data_bytes) - 1):\n",
    "                pair = (self.training_data_bytes[i], self.training_data_bytes[i + 1])\n",
    "                pair_counts[pair] += 1\n",
    "\n",
    "            max_pair = max(pair_counts, key=pair_counts.get)            \n",
    "            self.vocab.append(''.join([self.id_to_char[max_pair[0]], self.id_to_char[max_pair[1]]]))\n",
    "            if self.verbose:\n",
    "                print('Training data so far', [self.id_to_char[b] for b in self.training_data_bytes[:50]])\n",
    "                print('Top 10 pairs', [(self.id_to_char[c1], self.id_to_char[c2], count) for ((c1, c2), count) in [sorted(pair_counts.items(), key=lambda x: x[1], reverse=True)[:10]][0]])\n",
    "                print(f'New token \"{self.vocab[-1]}\"')\n",
    "            self.vocab_size += 1\n",
    "            self.char_to_id[self.vocab[-1]] = self.vocab_size - 1\n",
    "            self.id_to_char[self.vocab_size - 1] = self.vocab[-1]\n",
    "\n",
    "            # merge pair in training data\n",
    "            new_data = []\n",
    "            i = 0\n",
    "            while i < len(self.training_data_bytes):\n",
    "                if i < len(self.training_data_bytes) - 1 and (self.training_data_bytes[i], self.training_data_bytes[i + 1]) == max_pair:\n",
    "                    new_data.append(self.vocab_size - 1)\n",
    "                    i += 2\n",
    "                else:\n",
    "                    new_data.append(self.training_data_bytes[i])\n",
    "                    i += 1\n",
    "            self.training_data_bytes = new_data\n",
    "\n",
    "            # calculate compression ratio\n",
    "            self.compression_ratios.append(self.get_compression_ratio())\n",
    "\n",
    "    def plot_compression_ratios(self):\n",
    "        fig = px.line(x=list(range(len(self.compression_ratios))), y=self.compression_ratios, labels={'x': 'Number of Merges', 'y': 'Compression Ratio'}, width=800, height=300)\n",
    "        fig.show()\n",
    "\n",
    "    def encode(self, text: str):\n",
    "        tokens = []\n",
    "        i = 0\n",
    "        while i < len(text):\n",
    "            match = None\n",
    "            for j in range(self.vocab_size - 1, -1, -1):\n",
    "                token = self.id_to_char[j]\n",
    "                if text.startswith(token, i):\n",
    "                    match = token\n",
    "                    break\n",
    "            if match:\n",
    "                tokens.append(self.char_to_id[match])\n",
    "                i += len(match)\n",
    "            else:\n",
    "                tokens.append('<unk>')\n",
    "                i += 1\n",
    "        return tokens\n",
    "\n",
    "    def decode(self, ids: list):\n",
    "        return ''.join([self.id_to_char[id_] if type(id_) is int else '<unk>' for id_ in ids])\n",
    "\n",
    "tk = BPETokenizer(num_merges=2, verbose=True)"
   ]
  },
  {
   "cell_type": "markdown",
   "metadata": {},
   "source": [
    "Here you see for the training data \"the quick brown fox jumps over the lazy dog\", in the first iteration, we find the most common token pair is **th**, hence the training data replaces all subsequent occurences of 't' and 'h' to 'th'. Subsequently, we get **the** as the next token and so on. \n",
    "\n",
    "Let's now train it on the Verdict data."
   ]
  },
  {
   "cell_type": "code",
   "execution_count": 26,
   "metadata": {},
   "outputs": [
    {
     "data": {
      "application/vnd.jupyter.widget-view+json": {
       "model_id": "c873c8ca96f74f4e8889b19d9bf4b4aa",
       "version_major": 2,
       "version_minor": 0
      },
      "text/plain": [
       "Output()"
      ]
     },
     "metadata": {},
     "output_type": "display_data"
    },
    {
     "data": {
      "text/html": [
       "<pre style=\"white-space:pre;overflow-x:auto;line-height:normal;font-family:Menlo,'DejaVu Sans Mono',consolas,'Courier New',monospace\"></pre>\n"
      ],
      "text/plain": []
     },
     "metadata": {},
     "output_type": "display_data"
    },
    {
     "name": "stdout",
     "output_type": "stream",
     "text": [
      "606 ['\\x00', '\\x01', '\\x02', '\\x03', '\\x04', '\\x05', '\\x06', '\\x07', '\\x08', '\\t', '\\n', '\\x0b', '\\x0c', '\\r', '\\x0e', '\\x0f', '\\x10', '\\x11', '\\x12', '\\x13', '\\x14', '\\x15', '\\x16', '\\x17', '\\x18', '\\x19', '\\x1a', '\\x1b', '\\x1c', '\\x1d', '\\x1e', '\\x1f', ' ', '!', '\"', '#', '$', '%', '&', \"'\", '(', ')', '*', '+', ',', '-', '.', '/', '0', '1', '2', '3', '4', '5', '6', '7', '8', '9', ':', ';', '<', '=', '>', '?', '@', 'A', 'B', 'C', 'D', 'E', 'F', 'G', 'H', 'I', 'J', 'K', 'L', 'M', 'N', 'O', 'P', 'Q', 'R', 'S', 'T', 'U', 'V', 'W', 'X', 'Y', 'Z', '[', '\\\\', ']', '^', '_', '`', 'a', 'b', 'c', 'd', 'e', 'f', 'g', 'h', 'i', 'j', 'k', 'l', 'm', 'n', 'o', 'p', 'q', 'r', 's', 't', 'u', 'v', 'w', 'x', 'y', 'z', '{', '|', '}', '~', '\\x7f', '\\x80', '\\x81', '\\x82', '\\x83', '\\x84', '\\x85', '\\x86', '\\x87', '\\x88', '\\x89', '\\x8a', '\\x8b', '\\x8c', '\\x8d', '\\x8e', '\\x8f', '\\x90', '\\x91', '\\x92', '\\x93', '\\x94', '\\x95', '\\x96', '\\x97', '\\x98', '\\x99', '\\x9a', '\\x9b', '\\x9c', '\\x9d', '\\x9e', '\\x9f', '\\xa0', '¡', '¢', '£', '¤', '¥', '¦', '§', '¨', '©', 'ª', '«', '¬', '\\xad', '®', '¯', '°', '±', '²', '³', '´', 'µ', '¶', '·', '¸', '¹', 'º', '»', '¼', '½', '¾', '¿', 'À', 'Á', 'Â', 'Ã', 'Ä', 'Å', 'Æ', 'Ç', 'È', 'É', 'Ê', 'Ë', 'Ì', 'Í', 'Î', 'Ï', 'Ð', 'Ñ', 'Ò', 'Ó', 'Ô', 'Õ', 'Ö', '×', 'Ø', 'Ù', 'Ú', 'Û', 'Ü', 'Ý', 'Þ', 'ß', 'à', 'á', 'â', 'ã', 'ä', 'å', 'æ', 'ç', 'è', 'é', 'ê', 'ë', 'ì', 'í', 'î', 'ï', 'ð', 'ñ', 'ò', 'ó', 'ô', 'õ', 'ö', '÷', 'ø', 'ù', 'ú', 'û', 'ü', 'ý', 'þ', 'ÿ', 'e ', ' t', 'd ', 't ', 'in', 's ', 'he ', 'ha', ', ', 'ou', 'er', 'an', 'on', 'en', ' the ', 'y ', '. ', 'o ', 'ing', 'hi', 'it', 'ed ', 'I ', 'of', 'wa', 'st', '--', 're', 'or', ' a', '\\n\\n', 'at', 'el', 'ar', 'and ', 'ur', ' to ', 'ow', 'be', 'of ', 'ing ', 'is', 'his ', 'al', 'ac', ' th', 'ic', 'om', 'gh', 'e t', 'hat ', 'was ', 'a ', 'ed', 'en ', 'her', 'had ', 'es', 'us', '.\\n\\n', 'ain', 'him', 'it ', ' s', 've ', 'as', 'ir', 'my ', 'li', 'ch', 'le', 'wit', 'with', 'id', \"'s \", 'ra', 'rou', 'ro', 'rs', 'sa', 'ab', 'oul', ' that ', '\"\\n\\n', ' a ', 'ion', 'ver', 'se', 'you', '.\\n\\n\"', 'he', 'or ', 'de', 'urn', 'f ', 'll', 'ter', 'le ', 'up', 'no', 'ly', \"'t \", 'ent', 'ne', 'me', 'ack', 'oo', 'one ', 'have ', 'ut ', 'wh', 'ly ', 'as ', 'pain', 'la', 'burn', 't, ', 'Mrs', 'Mrs. ', 'un', 'own', 'of the ', ' and ', 'was', '.\"\\n\\n', 'Gis', 'Gisburn', 'e to ', ', and ', 'on ', 'ict', 'me ', 'ec', 'trou', 'ell', '\" ', 'qu', 'her ', 'and', 'su', \"n't \", 'Strou', 'ght ', 'ow ', 'ould ', ' the', 'in ', ': ', 'you ', 'ke', '. . ', 'est', 'sel', 'iv', 'pict', 'for', 'ad', 'res', 'ol', 'paint', 'The ', 'an ', 'os', 'mi', 'out ', ', I ', 'Jack', ' tha', 't the ', 'all', 'ca', 'ation', 'don', ' of ', 'fac', '! ', 'ent ', 'der', 'e, ', 'He ', 'th', 'pp', 'e of ', 'nd ', 'our', 'anc', 'y. ', 'ind', 'him ', 'es ', 'ust ', 'id ', 'wer', 'sh', 'ook', 'with ', 'not', 'she ', 'ever', 'so ', 'in the ', 'ri', 'I c', 'ex', 'look', 'e the ', 'by ', 'ut', 'nd', 'dis', 'It ', 'we', ' to', 'Mrs. Gisburn', 'ed to ', 'mo', 'ill', 'been ', 'ar ', 'pl', 'but ', 'ey', 'ag', 'ev', 'im', 'ong', '? ', 'w ', 'cur', '; and ', 'po', '_ ', 'str', 'ght', 'for ', 'ould', 'tch', 'gre', 'pr', 'ould have ', '--t', 'cou', 'ure ', 'k ', 'ick', 'wor', ': \"', 'lik', 'com', 'just ', 'ot', '-c', 'am', 'I had ', 'ous ', 'kn', \"ouldn't \", 'Stroud', 'way', 'he had ', 'himsel', '; ', 'ul', 'ct', 'not ', 'rough', ', the ', 'use ', 'if', 'down', 'beca', 'did', 'ant', 'br', 'ay', 'ig', 'he was ', 'with a ', 'under', 'see ', 'room', 'when ', 'Stroud ', 'ough', 'Th', 'ed it', 'las', 'picture ', 'is ', 's, ', 'And ', 'say', 'ear', 'I f', 'al ', 'ous', 'fa', 'pre', 'il', 'lif', 'back', 'int', 'bet', 'my', 'ath', 'if ', ' ther', 'bl', 'rom', 'um', 'ect', 'pictu', 'min', 'said', 'She ', 'out', 'here ', 'kne', 'ov', 'old ', 'et', 'y of ', 'it was ', 'no ', 'at ', 'sur', 'hear', ' that, ', 'gl', 'hed ', 'would have ', 'ome ', 'Rick', 'Rickha', 'Rickham', ' they ', 's. ', ' through', 'itt', ' his ', ' f', 'ess', 'h, ', 'd to ', 'di', 'lat', 'dd', 'been', 'eas', 'ed the ']\n",
      "[275, 264, 104, 399, 289, 256, 344, 63]\n",
      "hi, how are you?\n",
      "Compression ratio 2.230584903605272\n",
      "Added tokens  ['e ', ' t', 'd ', 't ', 'in', 's ', 'he ', 'ha', ', ', 'ou', 'er', 'an', 'on', 'en', ' the ', 'y ', '. ', 'o ', 'ing', 'hi', 'it', 'ed ', 'I ', 'of', 'wa', 'st', '--', 're', 'or', ' a', '\\n\\n', 'at', 'el', 'ar', 'and ', 'ur', ' to ', 'ow', 'be', 'of ', 'ing ', 'is', 'his ', 'al', 'ac', ' th', 'ic', 'om', 'gh', 'e t', 'hat ', 'was ', 'a ', 'ed', 'en ', 'her', 'had ', 'es', 'us', '.\\n\\n', 'ain', 'him', 'it ', ' s', 've ', 'as', 'ir', 'my ', 'li', 'ch', 'le', 'wit', 'with', 'id', \"'s \", 'ra', 'rou', 'ro', 'rs', 'sa', 'ab', 'oul', ' that ', '\"\\n\\n', ' a ', 'ion', 'ver', 'se', 'you', '.\\n\\n\"', 'he', 'or ', 'de', 'urn', 'f ', 'll', 'ter', 'le ', 'up', 'no', 'ly', \"'t \", 'ent', 'ne', 'me', 'ack', 'oo', 'one ', 'have ', 'ut ', 'wh', 'ly ', 'as ', 'pain', 'la', 'burn', 't, ', 'Mrs', 'Mrs. ', 'un', 'own', 'of the ', ' and ', 'was', '.\"\\n\\n', 'Gis', 'Gisburn', 'e to ', ', and ', 'on ', 'ict', 'me ', 'ec', 'trou', 'ell', '\" ', 'qu', 'her ', 'and', 'su', \"n't \", 'Strou', 'ght ', 'ow ', 'ould ', ' the', 'in ', ': ', 'you ', 'ke', '. . ', 'est', 'sel', 'iv', 'pict', 'for', 'ad', 'res', 'ol', 'paint', 'The ', 'an ', 'os', 'mi', 'out ', ', I ', 'Jack', ' tha', 't the ', 'all', 'ca', 'ation', 'don', ' of ', 'fac', '! ', 'ent ', 'der', 'e, ', 'He ', 'th', 'pp', 'e of ', 'nd ', 'our', 'anc', 'y. ', 'ind', 'him ', 'es ', 'ust ', 'id ', 'wer', 'sh', 'ook', 'with ', 'not', 'she ', 'ever', 'so ', 'in the ', 'ri', 'I c', 'ex', 'look', 'e the ', 'by ', 'ut', 'nd', 'dis', 'It ', 'we', ' to', 'Mrs. Gisburn', 'ed to ', 'mo', 'ill', 'been ', 'ar ', 'pl', 'but ', 'ey', 'ag', 'ev', 'im', 'ong', '? ', 'w ', 'cur', '; and ', 'po', '_ ', 'str', 'ght', 'for ', 'ould', 'tch', 'gre', 'pr', 'ould have ', '--t', 'cou', 'ure ', 'k ', 'ick', 'wor', ': \"', 'lik', 'com', 'just ', 'ot', '-c', 'am', 'I had ', 'ous ', 'kn', \"ouldn't \", 'Stroud', 'way', 'he had ', 'himsel', '; ', 'ul', 'ct', 'not ', 'rough', ', the ', 'use ', 'if', 'down', 'beca', 'did', 'ant', 'br', 'ay', 'ig', 'he was ', 'with a ', 'under', 'see ', 'room', 'when ', 'Stroud ', 'ough', 'Th', 'ed it', 'las', 'picture ', 'is ', 's, ', 'And ', 'say', 'ear', 'I f', 'al ', 'ous', 'fa', 'pre', 'il', 'lif', 'back', 'int', 'bet', 'my', 'ath', 'if ', ' ther', 'bl', 'rom', 'um', 'ect', 'pictu', 'min', 'said', 'She ', 'out', 'here ', 'kne', 'ov', 'old ', 'et', 'y of ', 'it was ', 'no ', 'at ', 'sur', 'hear', ' that, ', 'gl', 'hed ', 'would have ', 'ome ', 'Rick', 'Rickha', 'Rickham', ' they ', 's. ', ' through', 'itt', ' his ', ' f', 'ess', 'h, ', 'd to ', 'di', 'lat', 'dd', 'been', 'eas', 'ed the ']\n"
     ]
    },
    {
     "data": {
      "application/vnd.plotly.v1+json": {
       "config": {
        "plotlyServerURL": "https://plot.ly"
       },
       "data": [
        {
         "hovertemplate": "Token=%{x}<br>Frequency=%{y}<extra></extra>",
         "legendgroup": "",
         "marker": {
          "color": "#636efa",
          "pattern": {
           "shape": ""
          }
         },
         "name": "",
         "orientation": "v",
         "showlegend": false,
         "textposition": "auto",
         "type": "bar",
         "x": [
          "\u0000",
          "\u0001",
          "\u0002",
          "\u0003",
          "\u0004",
          "\u0005",
          "\u0006",
          "\u0007",
          "\b",
          "\t",
          "\n",
          "\u000b",
          "\f",
          "\r",
          "\u000e",
          "\u000f",
          "\u0010",
          "\u0011",
          "\u0012",
          "\u0013",
          "\u0014",
          "\u0015",
          "\u0016",
          "\u0017",
          "\u0018",
          "\u0019",
          "\u001a",
          "\u001b",
          "\u001c",
          "\u001d",
          "\u001e",
          "\u001f",
          " ",
          "!",
          "\"",
          "#",
          "$",
          "%",
          "&",
          "'",
          "(",
          ")",
          "*",
          "+",
          ",",
          "-",
          ".",
          "/",
          "0",
          "1",
          "2",
          "3",
          "4",
          "5",
          "6",
          "7",
          "8",
          "9",
          ":",
          ";",
          "<",
          "=",
          ">",
          "?",
          "@",
          "A",
          "B",
          "C",
          "D",
          "E",
          "F",
          "G",
          "H",
          "I",
          "J",
          "K",
          "L",
          "M",
          "N",
          "O",
          "P",
          "Q",
          "R",
          "S",
          "T",
          "U",
          "V",
          "W",
          "X",
          "Y",
          "Z",
          "[",
          "\\",
          "]",
          "^",
          "_",
          "`",
          "a",
          "b",
          "c",
          "d",
          "e",
          "f",
          "g",
          "h",
          "i",
          "j",
          "k",
          "l",
          "m",
          "n",
          "o",
          "p",
          "q",
          "r",
          "s",
          "t",
          "u",
          "v",
          "w",
          "x",
          "y",
          "z",
          "{",
          "|",
          "}",
          "~",
          "",
          "",
          "",
          "",
          "",
          "",
          "",
          "",
          "",
          "",
          "",
          "",
          "",
          "",
          "",
          "",
          "",
          "",
          "",
          "",
          "",
          "",
          "",
          "",
          "",
          "",
          "",
          "",
          "",
          "",
          "",
          "",
          "",
          " ",
          "¡",
          "¢",
          "£",
          "¤",
          "¥",
          "¦",
          "§",
          "¨",
          "©",
          "ª",
          "«",
          "¬",
          "­",
          "®",
          "¯",
          "°",
          "±",
          "²",
          "³",
          "´",
          "µ",
          "¶",
          "·",
          "¸",
          "¹",
          "º",
          "»",
          "¼",
          "½",
          "¾",
          "¿",
          "À",
          "Á",
          "Â",
          "Ã",
          "Ä",
          "Å",
          "Æ",
          "Ç",
          "È",
          "É",
          "Ê",
          "Ë",
          "Ì",
          "Í",
          "Î",
          "Ï",
          "Ð",
          "Ñ",
          "Ò",
          "Ó",
          "Ô",
          "Õ",
          "Ö",
          "×",
          "Ø",
          "Ù",
          "Ú",
          "Û",
          "Ü",
          "Ý",
          "Þ",
          "ß",
          "à",
          "á",
          "â",
          "ã",
          "ä",
          "å",
          "æ",
          "ç",
          "è",
          "é",
          "ê",
          "ë",
          "ì",
          "í",
          "î",
          "ï",
          "ð",
          "ñ",
          "ò",
          "ó",
          "ô",
          "õ",
          "ö",
          "÷",
          "ø",
          "ù",
          "ú",
          "û",
          "ü",
          "ý",
          "þ",
          "ÿ",
          "e ",
          " t",
          "d ",
          "t ",
          "in",
          "s ",
          "he ",
          "ha",
          ", ",
          "ou",
          "er",
          "an",
          "on",
          "en",
          " the ",
          "y ",
          ". ",
          "o ",
          "ing",
          "hi",
          "it",
          "ed ",
          "I ",
          "of",
          "wa",
          "st",
          "--",
          "re",
          "or",
          " a",
          "\n\n",
          "at",
          "el",
          "ar",
          "and ",
          "ur",
          " to ",
          "ow",
          "be",
          "of ",
          "ing ",
          "is",
          "his ",
          "al",
          "ac",
          " th",
          "ic",
          "om",
          "gh",
          "e t",
          "hat ",
          "was ",
          "a ",
          "ed",
          "en ",
          "her",
          "had ",
          "es",
          "us",
          ".\n\n",
          "ain",
          "him",
          "it ",
          " s",
          "ve ",
          "as",
          "ir",
          "my ",
          "li",
          "ch",
          "le",
          "wit",
          "with",
          "id",
          "'s ",
          "ra",
          "rou",
          "ro",
          "rs",
          "sa",
          "ab",
          "oul",
          " that ",
          "\"\n\n",
          " a ",
          "ion",
          "ver",
          "se",
          "you",
          ".\n\n\"",
          "he",
          "or ",
          "de",
          "urn",
          "f ",
          "ll",
          "ter",
          "le ",
          "up",
          "no",
          "ly",
          "'t ",
          "ent",
          "ne",
          "me",
          "ack",
          "oo",
          "one ",
          "have ",
          "ut ",
          "wh",
          "ly ",
          "as ",
          "pain",
          "la",
          "burn",
          "t, ",
          "Mrs",
          "Mrs. ",
          "un",
          "own",
          "of the ",
          " and ",
          "was",
          ".\"\n\n",
          "Gis",
          "Gisburn",
          "e to ",
          ", and ",
          "on ",
          "ict",
          "me ",
          "ec",
          "trou",
          "ell",
          "\" ",
          "qu",
          "her ",
          "and",
          "su",
          "n't ",
          "Strou",
          "ght ",
          "ow ",
          "ould ",
          " the",
          "in ",
          ": ",
          "you ",
          "ke",
          ". . ",
          "est",
          "sel",
          "iv",
          "pict",
          "for",
          "ad",
          "res",
          "ol",
          "paint",
          "The ",
          "an ",
          "os",
          "mi",
          "out ",
          ", I ",
          "Jack",
          " tha",
          "t the ",
          "all",
          "ca",
          "ation",
          "don",
          " of ",
          "fac",
          "! ",
          "ent ",
          "der",
          "e, ",
          "He ",
          "th",
          "pp",
          "e of ",
          "nd ",
          "our",
          "anc",
          "y. ",
          "ind",
          "him ",
          "es ",
          "ust ",
          "id ",
          "wer",
          "sh",
          "ook",
          "with ",
          "not",
          "she ",
          "ever",
          "so ",
          "in the ",
          "ri",
          "I c",
          "ex",
          "look",
          "e the ",
          "by ",
          "ut",
          "nd",
          "dis",
          "It ",
          "we",
          " to",
          "Mrs. Gisburn",
          "ed to ",
          "mo",
          "ill",
          "been ",
          "ar ",
          "pl",
          "but ",
          "ey",
          "ag",
          "ev",
          "im",
          "ong",
          "? ",
          "w ",
          "cur",
          "; and ",
          "po",
          "_ ",
          "str",
          "ght",
          "for ",
          "ould",
          "tch",
          "gre",
          "pr",
          "ould have ",
          "--t",
          "cou",
          "ure ",
          "k ",
          "ick",
          "wor",
          ": \"",
          "lik",
          "com",
          "just ",
          "ot",
          "-c",
          "am",
          "I had ",
          "ous ",
          "kn",
          "ouldn't ",
          "Stroud",
          "way",
          "he had ",
          "himsel",
          "; ",
          "ul",
          "ct",
          "not ",
          "rough",
          ", the ",
          "use ",
          "if",
          "down",
          "beca",
          "did",
          "ant",
          "br",
          "ay",
          "ig",
          "he was ",
          "with a ",
          "under",
          "see ",
          "room",
          "when ",
          "Stroud ",
          "ough",
          "Th",
          "ed it",
          "las",
          "picture ",
          "is ",
          "s, ",
          "And ",
          "say",
          "ear",
          "I f",
          "al ",
          "ous",
          "fa",
          "pre",
          "il",
          "lif",
          "back",
          "int",
          "bet",
          "my",
          "ath",
          "if ",
          " ther",
          "bl",
          "rom",
          "um",
          "ect",
          "pictu",
          "min",
          "said",
          "She ",
          "out",
          "here ",
          "kne",
          "ov",
          "old ",
          "et",
          "y of ",
          "it was ",
          "no ",
          "at ",
          "sur",
          "hear",
          " that, ",
          "gl",
          "hed ",
          "would have ",
          "ome ",
          "Rick",
          "Rickha",
          "Rickham",
          " they ",
          "s. ",
          " through",
          "itt",
          " his ",
          " f",
          "ess",
          "h, ",
          "d to ",
          "di",
          "lat",
          "dd",
          "been",
          "eas",
          "ed the "
         ],
         "xaxis": "x",
         "y": {
          "bdata": "AAAAAAAAAAAAAAAAAAAAAAAAAAAAAAAAAAAAAAAAAAAAAAAAAAAAAAAAAAAAAAAAAAAAAAAAAAAAAAAAAAAAAAYCCQApAAAAAAAAAAAAGwADAAMAAAAAAAwAGwAFAAAAAAAAAAAAAAAAAAAAAAAAAAAAAAAAAAAAAAAAAAAADQAAAAsAEAAJAAcAAQAEAAoADAAMAAQAAAABAA0ABQAQAAUAAAAGAAMAAwABAAMAEAAAAAgAAAAAAAAAAAAAABUAAAA3AC4AZQBIAHwAWgBkAEEAKQALABgAOwA7AGYANABbAAAANQBmANsANgAlAC4ABQAqAAQAAAAAAAAAAAAAAAAAAAAAAAAAAAAAAAAAAAAAAAAAAAAAAAAAAAAAAAAAAAAAAAAAAAAAAAAAAAAAAAAAAAAAAAAAAAAAAAAAAAAAAAAAAAAAAAAAAAAAAAAAAAAAAAAAAAAAAAAAAAAAAAAAAAAAAAAAAAAAAAAAAAAAAAAAAAAAAAAAAAAAAAAAAAAAAAAAAAAAAAAAAAAAAAAAAAAAAAAAAAAAAAAAAAAAAAAAAAAAAAAAAAAAAAAAAAAAAAAAAAAAAAAAAAAAAAAAAAAAAAAAAAAAAAAAAAAAAAAAAAAAAAAAAAAAAAAAAAAAAAAAAAAAAAAAAAAAAAAAAAAAAAAAAAAAAAAAAADFABIANwBeABsARgAAACMAeAANAFwAGgA0ACoAAAA8AE0ARwAmAA8AOAAAAEkACAAUADEAVgBKABcAPQAGABoAIQAtAAAAFAAAABUALgAfAE0AHgAqABoAEgAOABQAEAAGAA8ACgAAAEAAaQAdAAAAIQAVABoAEAAUABEAJAA7AAcAFAAnAAAAJwAdACUAAQADABAAJgAwAAAAGwANAAwAGwAAAAAACgAOABYACgAjAAkAHQBNABYALwAHABoADQATABIAGQAJABEACAAOACIALAACABEAGAAPAAAAIgAXABYAAAAWAAIABwAAAAoADgALAA0ADQA0ABUAAAAIABAAEgAfAAIAGAAJAAAAEgAaABMAFAA1ABcADgAAAAAADwAAACkAHwALABUAHwALABQABwAXAAAAEQAbAA8ADgAXAAAAGAAPABIAAAAMAA8ADwAGABUAGQALABEAIQAAAA8ABgAEABYADwCkAA4ADQAAAA4ADAANAAkAEAAQAAQADAAAABMAAQAWAAcADgAAAAwADAAZAA0ADwAMAAcADgAcACEAAAAMACIAGQAMAAwAHQAAAAAADgAYAA0AEgAKABgADwAIAAsAFgAKAAAAEwAPABMADgAKAAgACgAKABAAAwALABAAAQAOAAEACgAKAAsACgAMAAwACwAHAAoAAAAKAAcACgAOAAoACQAWAAwAEgARAAYABQAJAAgACQAJAAAABwARAAsADgALAAoACQAJAAkACQAJABIAIAAIAAsAAAARABIACAAOAAkACQAJABQAGwALABUABwAIAA4ACAAtAAoACgABAA8ACAAIAA4AEQAMAAgACAAbAAMACAARAAkAFAAGAAkABwAzAAcACQAEAAoABgAHAAkAAAAAAAcAAgAHAAMABgASABUABQALAAUALwAHAAUAEgAHAAYA",
          "dtype": "i2"
         },
         "yaxis": "y"
        }
       ],
       "layout": {
        "barmode": "relative",
        "height": 300,
        "legend": {
         "tracegroupgap": 0
        },
        "margin": {
         "t": 60
        },
        "template": {
         "data": {
          "bar": [
           {
            "error_x": {
             "color": "#2a3f5f"
            },
            "error_y": {
             "color": "#2a3f5f"
            },
            "marker": {
             "line": {
              "color": "#E5ECF6",
              "width": 0.5
             },
             "pattern": {
              "fillmode": "overlay",
              "size": 10,
              "solidity": 0.2
             }
            },
            "type": "bar"
           }
          ],
          "barpolar": [
           {
            "marker": {
             "line": {
              "color": "#E5ECF6",
              "width": 0.5
             },
             "pattern": {
              "fillmode": "overlay",
              "size": 10,
              "solidity": 0.2
             }
            },
            "type": "barpolar"
           }
          ],
          "carpet": [
           {
            "aaxis": {
             "endlinecolor": "#2a3f5f",
             "gridcolor": "white",
             "linecolor": "white",
             "minorgridcolor": "white",
             "startlinecolor": "#2a3f5f"
            },
            "baxis": {
             "endlinecolor": "#2a3f5f",
             "gridcolor": "white",
             "linecolor": "white",
             "minorgridcolor": "white",
             "startlinecolor": "#2a3f5f"
            },
            "type": "carpet"
           }
          ],
          "choropleth": [
           {
            "colorbar": {
             "outlinewidth": 0,
             "ticks": ""
            },
            "type": "choropleth"
           }
          ],
          "contour": [
           {
            "colorbar": {
             "outlinewidth": 0,
             "ticks": ""
            },
            "colorscale": [
             [
              0,
              "#0d0887"
             ],
             [
              0.1111111111111111,
              "#46039f"
             ],
             [
              0.2222222222222222,
              "#7201a8"
             ],
             [
              0.3333333333333333,
              "#9c179e"
             ],
             [
              0.4444444444444444,
              "#bd3786"
             ],
             [
              0.5555555555555556,
              "#d8576b"
             ],
             [
              0.6666666666666666,
              "#ed7953"
             ],
             [
              0.7777777777777778,
              "#fb9f3a"
             ],
             [
              0.8888888888888888,
              "#fdca26"
             ],
             [
              1,
              "#f0f921"
             ]
            ],
            "type": "contour"
           }
          ],
          "contourcarpet": [
           {
            "colorbar": {
             "outlinewidth": 0,
             "ticks": ""
            },
            "type": "contourcarpet"
           }
          ],
          "heatmap": [
           {
            "colorbar": {
             "outlinewidth": 0,
             "ticks": ""
            },
            "colorscale": [
             [
              0,
              "#0d0887"
             ],
             [
              0.1111111111111111,
              "#46039f"
             ],
             [
              0.2222222222222222,
              "#7201a8"
             ],
             [
              0.3333333333333333,
              "#9c179e"
             ],
             [
              0.4444444444444444,
              "#bd3786"
             ],
             [
              0.5555555555555556,
              "#d8576b"
             ],
             [
              0.6666666666666666,
              "#ed7953"
             ],
             [
              0.7777777777777778,
              "#fb9f3a"
             ],
             [
              0.8888888888888888,
              "#fdca26"
             ],
             [
              1,
              "#f0f921"
             ]
            ],
            "type": "heatmap"
           }
          ],
          "histogram": [
           {
            "marker": {
             "pattern": {
              "fillmode": "overlay",
              "size": 10,
              "solidity": 0.2
             }
            },
            "type": "histogram"
           }
          ],
          "histogram2d": [
           {
            "colorbar": {
             "outlinewidth": 0,
             "ticks": ""
            },
            "colorscale": [
             [
              0,
              "#0d0887"
             ],
             [
              0.1111111111111111,
              "#46039f"
             ],
             [
              0.2222222222222222,
              "#7201a8"
             ],
             [
              0.3333333333333333,
              "#9c179e"
             ],
             [
              0.4444444444444444,
              "#bd3786"
             ],
             [
              0.5555555555555556,
              "#d8576b"
             ],
             [
              0.6666666666666666,
              "#ed7953"
             ],
             [
              0.7777777777777778,
              "#fb9f3a"
             ],
             [
              0.8888888888888888,
              "#fdca26"
             ],
             [
              1,
              "#f0f921"
             ]
            ],
            "type": "histogram2d"
           }
          ],
          "histogram2dcontour": [
           {
            "colorbar": {
             "outlinewidth": 0,
             "ticks": ""
            },
            "colorscale": [
             [
              0,
              "#0d0887"
             ],
             [
              0.1111111111111111,
              "#46039f"
             ],
             [
              0.2222222222222222,
              "#7201a8"
             ],
             [
              0.3333333333333333,
              "#9c179e"
             ],
             [
              0.4444444444444444,
              "#bd3786"
             ],
             [
              0.5555555555555556,
              "#d8576b"
             ],
             [
              0.6666666666666666,
              "#ed7953"
             ],
             [
              0.7777777777777778,
              "#fb9f3a"
             ],
             [
              0.8888888888888888,
              "#fdca26"
             ],
             [
              1,
              "#f0f921"
             ]
            ],
            "type": "histogram2dcontour"
           }
          ],
          "mesh3d": [
           {
            "colorbar": {
             "outlinewidth": 0,
             "ticks": ""
            },
            "type": "mesh3d"
           }
          ],
          "parcoords": [
           {
            "line": {
             "colorbar": {
              "outlinewidth": 0,
              "ticks": ""
             }
            },
            "type": "parcoords"
           }
          ],
          "pie": [
           {
            "automargin": true,
            "type": "pie"
           }
          ],
          "scatter": [
           {
            "fillpattern": {
             "fillmode": "overlay",
             "size": 10,
             "solidity": 0.2
            },
            "type": "scatter"
           }
          ],
          "scatter3d": [
           {
            "line": {
             "colorbar": {
              "outlinewidth": 0,
              "ticks": ""
             }
            },
            "marker": {
             "colorbar": {
              "outlinewidth": 0,
              "ticks": ""
             }
            },
            "type": "scatter3d"
           }
          ],
          "scattercarpet": [
           {
            "marker": {
             "colorbar": {
              "outlinewidth": 0,
              "ticks": ""
             }
            },
            "type": "scattercarpet"
           }
          ],
          "scattergeo": [
           {
            "marker": {
             "colorbar": {
              "outlinewidth": 0,
              "ticks": ""
             }
            },
            "type": "scattergeo"
           }
          ],
          "scattergl": [
           {
            "marker": {
             "colorbar": {
              "outlinewidth": 0,
              "ticks": ""
             }
            },
            "type": "scattergl"
           }
          ],
          "scattermap": [
           {
            "marker": {
             "colorbar": {
              "outlinewidth": 0,
              "ticks": ""
             }
            },
            "type": "scattermap"
           }
          ],
          "scattermapbox": [
           {
            "marker": {
             "colorbar": {
              "outlinewidth": 0,
              "ticks": ""
             }
            },
            "type": "scattermapbox"
           }
          ],
          "scatterpolar": [
           {
            "marker": {
             "colorbar": {
              "outlinewidth": 0,
              "ticks": ""
             }
            },
            "type": "scatterpolar"
           }
          ],
          "scatterpolargl": [
           {
            "marker": {
             "colorbar": {
              "outlinewidth": 0,
              "ticks": ""
             }
            },
            "type": "scatterpolargl"
           }
          ],
          "scatterternary": [
           {
            "marker": {
             "colorbar": {
              "outlinewidth": 0,
              "ticks": ""
             }
            },
            "type": "scatterternary"
           }
          ],
          "surface": [
           {
            "colorbar": {
             "outlinewidth": 0,
             "ticks": ""
            },
            "colorscale": [
             [
              0,
              "#0d0887"
             ],
             [
              0.1111111111111111,
              "#46039f"
             ],
             [
              0.2222222222222222,
              "#7201a8"
             ],
             [
              0.3333333333333333,
              "#9c179e"
             ],
             [
              0.4444444444444444,
              "#bd3786"
             ],
             [
              0.5555555555555556,
              "#d8576b"
             ],
             [
              0.6666666666666666,
              "#ed7953"
             ],
             [
              0.7777777777777778,
              "#fb9f3a"
             ],
             [
              0.8888888888888888,
              "#fdca26"
             ],
             [
              1,
              "#f0f921"
             ]
            ],
            "type": "surface"
           }
          ],
          "table": [
           {
            "cells": {
             "fill": {
              "color": "#EBF0F8"
             },
             "line": {
              "color": "white"
             }
            },
            "header": {
             "fill": {
              "color": "#C8D4E3"
             },
             "line": {
              "color": "white"
             }
            },
            "type": "table"
           }
          ]
         },
         "layout": {
          "annotationdefaults": {
           "arrowcolor": "#2a3f5f",
           "arrowhead": 0,
           "arrowwidth": 1
          },
          "autotypenumbers": "strict",
          "coloraxis": {
           "colorbar": {
            "outlinewidth": 0,
            "ticks": ""
           }
          },
          "colorscale": {
           "diverging": [
            [
             0,
             "#8e0152"
            ],
            [
             0.1,
             "#c51b7d"
            ],
            [
             0.2,
             "#de77ae"
            ],
            [
             0.3,
             "#f1b6da"
            ],
            [
             0.4,
             "#fde0ef"
            ],
            [
             0.5,
             "#f7f7f7"
            ],
            [
             0.6,
             "#e6f5d0"
            ],
            [
             0.7,
             "#b8e186"
            ],
            [
             0.8,
             "#7fbc41"
            ],
            [
             0.9,
             "#4d9221"
            ],
            [
             1,
             "#276419"
            ]
           ],
           "sequential": [
            [
             0,
             "#0d0887"
            ],
            [
             0.1111111111111111,
             "#46039f"
            ],
            [
             0.2222222222222222,
             "#7201a8"
            ],
            [
             0.3333333333333333,
             "#9c179e"
            ],
            [
             0.4444444444444444,
             "#bd3786"
            ],
            [
             0.5555555555555556,
             "#d8576b"
            ],
            [
             0.6666666666666666,
             "#ed7953"
            ],
            [
             0.7777777777777778,
             "#fb9f3a"
            ],
            [
             0.8888888888888888,
             "#fdca26"
            ],
            [
             1,
             "#f0f921"
            ]
           ],
           "sequentialminus": [
            [
             0,
             "#0d0887"
            ],
            [
             0.1111111111111111,
             "#46039f"
            ],
            [
             0.2222222222222222,
             "#7201a8"
            ],
            [
             0.3333333333333333,
             "#9c179e"
            ],
            [
             0.4444444444444444,
             "#bd3786"
            ],
            [
             0.5555555555555556,
             "#d8576b"
            ],
            [
             0.6666666666666666,
             "#ed7953"
            ],
            [
             0.7777777777777778,
             "#fb9f3a"
            ],
            [
             0.8888888888888888,
             "#fdca26"
            ],
            [
             1,
             "#f0f921"
            ]
           ]
          },
          "colorway": [
           "#636efa",
           "#EF553B",
           "#00cc96",
           "#ab63fa",
           "#FFA15A",
           "#19d3f3",
           "#FF6692",
           "#B6E880",
           "#FF97FF",
           "#FECB52"
          ],
          "font": {
           "color": "#2a3f5f"
          },
          "geo": {
           "bgcolor": "white",
           "lakecolor": "white",
           "landcolor": "#E5ECF6",
           "showlakes": true,
           "showland": true,
           "subunitcolor": "white"
          },
          "hoverlabel": {
           "align": "left"
          },
          "hovermode": "closest",
          "mapbox": {
           "style": "light"
          },
          "paper_bgcolor": "white",
          "plot_bgcolor": "#E5ECF6",
          "polar": {
           "angularaxis": {
            "gridcolor": "white",
            "linecolor": "white",
            "ticks": ""
           },
           "bgcolor": "#E5ECF6",
           "radialaxis": {
            "gridcolor": "white",
            "linecolor": "white",
            "ticks": ""
           }
          },
          "scene": {
           "xaxis": {
            "backgroundcolor": "#E5ECF6",
            "gridcolor": "white",
            "gridwidth": 2,
            "linecolor": "white",
            "showbackground": true,
            "ticks": "",
            "zerolinecolor": "white"
           },
           "yaxis": {
            "backgroundcolor": "#E5ECF6",
            "gridcolor": "white",
            "gridwidth": 2,
            "linecolor": "white",
            "showbackground": true,
            "ticks": "",
            "zerolinecolor": "white"
           },
           "zaxis": {
            "backgroundcolor": "#E5ECF6",
            "gridcolor": "white",
            "gridwidth": 2,
            "linecolor": "white",
            "showbackground": true,
            "ticks": "",
            "zerolinecolor": "white"
           }
          },
          "shapedefaults": {
           "line": {
            "color": "#2a3f5f"
           }
          },
          "ternary": {
           "aaxis": {
            "gridcolor": "white",
            "linecolor": "white",
            "ticks": ""
           },
           "baxis": {
            "gridcolor": "white",
            "linecolor": "white",
            "ticks": ""
           },
           "bgcolor": "#E5ECF6",
           "caxis": {
            "gridcolor": "white",
            "linecolor": "white",
            "ticks": ""
           }
          },
          "title": {
           "x": 0.05
          },
          "xaxis": {
           "automargin": true,
           "gridcolor": "white",
           "linecolor": "white",
           "ticks": "",
           "title": {
            "standoff": 15
           },
           "zerolinecolor": "white",
           "zerolinewidth": 2
          },
          "yaxis": {
           "automargin": true,
           "gridcolor": "white",
           "linecolor": "white",
           "ticks": "",
           "title": {
            "standoff": 15
           },
           "zerolinecolor": "white",
           "zerolinewidth": 2
          }
         }
        },
        "width": 800,
        "xaxis": {
         "anchor": "y",
         "domain": [
          0,
          1
         ],
         "title": {
          "text": "Token"
         }
        },
        "yaxis": {
         "anchor": "x",
         "domain": [
          0,
          1
         ],
         "title": {
          "text": "Frequency"
         }
        }
       }
      }
     },
     "metadata": {},
     "output_type": "display_data"
    }
   ],
   "source": [
    "with open(\"./data/the-verdict.txt\", \"r\") as f:\n",
    "    data = f.read()\n",
    "tk = BPETokenizer(data, num_merges=350)\n",
    "print(tk.vocab_size, tk.vocab)\n",
    "print(tk.encode(\"hi, how are you?\"))\n",
    "print(tk.decode(tk.encode(\"hi, how are you?\")))\n",
    "print('Compression ratio', tk.get_compression_ratio())\n",
    "print('Added tokens ', tk.vocab[256:])\n",
    "tk.plot_token_distribution()"
   ]
  },
  {
   "cell_type": "markdown",
   "metadata": {},
   "source": [
    "Nice! So the BPE tokenizer create tokens for 'e ', ' t', 'd ', 't ', 'in' and so on, and we see they appear quite frequently too, giving us a compression ratio of **2.23**. \n",
    "\n",
    "Another interesting aspect of BPE tokenizer is that as we increase the number of merges, we get diminishing returns for the compression ratio. This is because the most frequent character pairs are merged first, leaving progressively less common and impactful pairs for later merges. The initial merges offer a high \"compression gain,\" significantly reducing the total token count and efficiently creating common subwords. However, as the vocabulary grows, the impact of each additional merge on the overall tokenization quality and compression diminishes. "
   ]
  },
  {
   "cell_type": "code",
   "execution_count": 27,
   "metadata": {},
   "outputs": [
    {
     "data": {
      "application/vnd.plotly.v1+json": {
       "config": {
        "plotlyServerURL": "https://plot.ly"
       },
       "data": [
        {
         "hovertemplate": "Number of Merges=%{x}<br>Compression Ratio=%{y}<extra></extra>",
         "legendgroup": "",
         "line": {
          "color": "#636efa",
          "dash": "solid"
         },
         "marker": {
          "symbol": "circle"
         },
         "mode": "lines",
         "name": "",
         "orientation": "v",
         "showlegend": false,
         "type": "scatter",
         "x": {
          "bdata": "AAABAAIAAwAEAAUABgAHAAgACQAKAAsADAANAA4ADwAQABEAEgATABQAFQAWABcAGAAZABoAGwAcAB0AHgAfACAAIQAiACMAJAAlACYAJwAoACkAKgArACwALQAuAC8AMAAxADIAMwA0ADUANgA3ADgAOQA6ADsAPAA9AD4APwBAAEEAQgBDAEQARQBGAEcASABJAEoASwBMAE0ATgBPAFAAUQBSAFMAVABVAFYAVwBYAFkAWgBbAFwAXQBeAF8AYABhAGIAYwBkAGUAZgBnAGgAaQBqAGsAbABtAG4AbwBwAHEAcgBzAHQAdQB2AHcAeAB5AHoAewB8AH0AfgB/AIAAgQCCAIMAhACFAIYAhwCIAIkAigCLAIwAjQCOAI8AkACRAJIAkwCUAJUAlgCXAJgAmQCaAJsAnACdAJ4AnwCgAKEAogCjAKQApQCmAKcAqACpAKoAqwCsAK0ArgCvALAAsQCyALMAtAC1ALYAtwC4ALkAugC7ALwAvQC+AL8AwADBAMIAwwDEAMUAxgDHAMgAyQDKAMsAzADNAM4AzwDQANEA0gDTANQA1QDWANcA2ADZANoA2wDcAN0A3gDfAOAA4QDiAOMA5ADlAOYA5wDoAOkA6gDrAOwA7QDuAO8A8ADxAPIA8wD0APUA9gD3APgA+QD6APsA/AD9AP4A/wAAAQEBAgEDAQQBBQEGAQcBCAEJAQoBCwEMAQ0BDgEPARABEQESARMBFAEVARYBFwEYARkBGgEbARwBHQEeAR8BIAEhASIBIwEkASUBJgEnASgBKQEqASsBLAEtAS4BLwEwATEBMgEzATQBNQE2ATcBOAE5AToBOwE8AT0BPgE/AUABQQFCAUMBRAFFAUYBRwFIAUkBSgFLAUwBTQFOAU8BUAFRAVIBUwFUAVUBVgFXAVgBWQFaAVsBXAFdAV4B",
          "dtype": "i2"
         },
         "xaxis": "x",
         "y": {
          "bdata": "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",
          "dtype": "f8"
         },
         "yaxis": "y"
        }
       ],
       "layout": {
        "height": 300,
        "legend": {
         "tracegroupgap": 0
        },
        "margin": {
         "t": 60
        },
        "template": {
         "data": {
          "bar": [
           {
            "error_x": {
             "color": "#2a3f5f"
            },
            "error_y": {
             "color": "#2a3f5f"
            },
            "marker": {
             "line": {
              "color": "#E5ECF6",
              "width": 0.5
             },
             "pattern": {
              "fillmode": "overlay",
              "size": 10,
              "solidity": 0.2
             }
            },
            "type": "bar"
           }
          ],
          "barpolar": [
           {
            "marker": {
             "line": {
              "color": "#E5ECF6",
              "width": 0.5
             },
             "pattern": {
              "fillmode": "overlay",
              "size": 10,
              "solidity": 0.2
             }
            },
            "type": "barpolar"
           }
          ],
          "carpet": [
           {
            "aaxis": {
             "endlinecolor": "#2a3f5f",
             "gridcolor": "white",
             "linecolor": "white",
             "minorgridcolor": "white",
             "startlinecolor": "#2a3f5f"
            },
            "baxis": {
             "endlinecolor": "#2a3f5f",
             "gridcolor": "white",
             "linecolor": "white",
             "minorgridcolor": "white",
             "startlinecolor": "#2a3f5f"
            },
            "type": "carpet"
           }
          ],
          "choropleth": [
           {
            "colorbar": {
             "outlinewidth": 0,
             "ticks": ""
            },
            "type": "choropleth"
           }
          ],
          "contour": [
           {
            "colorbar": {
             "outlinewidth": 0,
             "ticks": ""
            },
            "colorscale": [
             [
              0,
              "#0d0887"
             ],
             [
              0.1111111111111111,
              "#46039f"
             ],
             [
              0.2222222222222222,
              "#7201a8"
             ],
             [
              0.3333333333333333,
              "#9c179e"
             ],
             [
              0.4444444444444444,
              "#bd3786"
             ],
             [
              0.5555555555555556,
              "#d8576b"
             ],
             [
              0.6666666666666666,
              "#ed7953"
             ],
             [
              0.7777777777777778,
              "#fb9f3a"
             ],
             [
              0.8888888888888888,
              "#fdca26"
             ],
             [
              1,
              "#f0f921"
             ]
            ],
            "type": "contour"
           }
          ],
          "contourcarpet": [
           {
            "colorbar": {
             "outlinewidth": 0,
             "ticks": ""
            },
            "type": "contourcarpet"
           }
          ],
          "heatmap": [
           {
            "colorbar": {
             "outlinewidth": 0,
             "ticks": ""
            },
            "colorscale": [
             [
              0,
              "#0d0887"
             ],
             [
              0.1111111111111111,
              "#46039f"
             ],
             [
              0.2222222222222222,
              "#7201a8"
             ],
             [
              0.3333333333333333,
              "#9c179e"
             ],
             [
              0.4444444444444444,
              "#bd3786"
             ],
             [
              0.5555555555555556,
              "#d8576b"
             ],
             [
              0.6666666666666666,
              "#ed7953"
             ],
             [
              0.7777777777777778,
              "#fb9f3a"
             ],
             [
              0.8888888888888888,
              "#fdca26"
             ],
             [
              1,
              "#f0f921"
             ]
            ],
            "type": "heatmap"
           }
          ],
          "histogram": [
           {
            "marker": {
             "pattern": {
              "fillmode": "overlay",
              "size": 10,
              "solidity": 0.2
             }
            },
            "type": "histogram"
           }
          ],
          "histogram2d": [
           {
            "colorbar": {
             "outlinewidth": 0,
             "ticks": ""
            },
            "colorscale": [
             [
              0,
              "#0d0887"
             ],
             [
              0.1111111111111111,
              "#46039f"
             ],
             [
              0.2222222222222222,
              "#7201a8"
             ],
             [
              0.3333333333333333,
              "#9c179e"
             ],
             [
              0.4444444444444444,
              "#bd3786"
             ],
             [
              0.5555555555555556,
              "#d8576b"
             ],
             [
              0.6666666666666666,
              "#ed7953"
             ],
             [
              0.7777777777777778,
              "#fb9f3a"
             ],
             [
              0.8888888888888888,
              "#fdca26"
             ],
             [
              1,
              "#f0f921"
             ]
            ],
            "type": "histogram2d"
           }
          ],
          "histogram2dcontour": [
           {
            "colorbar": {
             "outlinewidth": 0,
             "ticks": ""
            },
            "colorscale": [
             [
              0,
              "#0d0887"
             ],
             [
              0.1111111111111111,
              "#46039f"
             ],
             [
              0.2222222222222222,
              "#7201a8"
             ],
             [
              0.3333333333333333,
              "#9c179e"
             ],
             [
              0.4444444444444444,
              "#bd3786"
             ],
             [
              0.5555555555555556,
              "#d8576b"
             ],
             [
              0.6666666666666666,
              "#ed7953"
             ],
             [
              0.7777777777777778,
              "#fb9f3a"
             ],
             [
              0.8888888888888888,
              "#fdca26"
             ],
             [
              1,
              "#f0f921"
             ]
            ],
            "type": "histogram2dcontour"
           }
          ],
          "mesh3d": [
           {
            "colorbar": {
             "outlinewidth": 0,
             "ticks": ""
            },
            "type": "mesh3d"
           }
          ],
          "parcoords": [
           {
            "line": {
             "colorbar": {
              "outlinewidth": 0,
              "ticks": ""
             }
            },
            "type": "parcoords"
           }
          ],
          "pie": [
           {
            "automargin": true,
            "type": "pie"
           }
          ],
          "scatter": [
           {
            "fillpattern": {
             "fillmode": "overlay",
             "size": 10,
             "solidity": 0.2
            },
            "type": "scatter"
           }
          ],
          "scatter3d": [
           {
            "line": {
             "colorbar": {
              "outlinewidth": 0,
              "ticks": ""
             }
            },
            "marker": {
             "colorbar": {
              "outlinewidth": 0,
              "ticks": ""
             }
            },
            "type": "scatter3d"
           }
          ],
          "scattercarpet": [
           {
            "marker": {
             "colorbar": {
              "outlinewidth": 0,
              "ticks": ""
             }
            },
            "type": "scattercarpet"
           }
          ],
          "scattergeo": [
           {
            "marker": {
             "colorbar": {
              "outlinewidth": 0,
              "ticks": ""
             }
            },
            "type": "scattergeo"
           }
          ],
          "scattergl": [
           {
            "marker": {
             "colorbar": {
              "outlinewidth": 0,
              "ticks": ""
             }
            },
            "type": "scattergl"
           }
          ],
          "scattermap": [
           {
            "marker": {
             "colorbar": {
              "outlinewidth": 0,
              "ticks": ""
             }
            },
            "type": "scattermap"
           }
          ],
          "scattermapbox": [
           {
            "marker": {
             "colorbar": {
              "outlinewidth": 0,
              "ticks": ""
             }
            },
            "type": "scattermapbox"
           }
          ],
          "scatterpolar": [
           {
            "marker": {
             "colorbar": {
              "outlinewidth": 0,
              "ticks": ""
             }
            },
            "type": "scatterpolar"
           }
          ],
          "scatterpolargl": [
           {
            "marker": {
             "colorbar": {
              "outlinewidth": 0,
              "ticks": ""
             }
            },
            "type": "scatterpolargl"
           }
          ],
          "scatterternary": [
           {
            "marker": {
             "colorbar": {
              "outlinewidth": 0,
              "ticks": ""
             }
            },
            "type": "scatterternary"
           }
          ],
          "surface": [
           {
            "colorbar": {
             "outlinewidth": 0,
             "ticks": ""
            },
            "colorscale": [
             [
              0,
              "#0d0887"
             ],
             [
              0.1111111111111111,
              "#46039f"
             ],
             [
              0.2222222222222222,
              "#7201a8"
             ],
             [
              0.3333333333333333,
              "#9c179e"
             ],
             [
              0.4444444444444444,
              "#bd3786"
             ],
             [
              0.5555555555555556,
              "#d8576b"
             ],
             [
              0.6666666666666666,
              "#ed7953"
             ],
             [
              0.7777777777777778,
              "#fb9f3a"
             ],
             [
              0.8888888888888888,
              "#fdca26"
             ],
             [
              1,
              "#f0f921"
             ]
            ],
            "type": "surface"
           }
          ],
          "table": [
           {
            "cells": {
             "fill": {
              "color": "#EBF0F8"
             },
             "line": {
              "color": "white"
             }
            },
            "header": {
             "fill": {
              "color": "#C8D4E3"
             },
             "line": {
              "color": "white"
             }
            },
            "type": "table"
           }
          ]
         },
         "layout": {
          "annotationdefaults": {
           "arrowcolor": "#2a3f5f",
           "arrowhead": 0,
           "arrowwidth": 1
          },
          "autotypenumbers": "strict",
          "coloraxis": {
           "colorbar": {
            "outlinewidth": 0,
            "ticks": ""
           }
          },
          "colorscale": {
           "diverging": [
            [
             0,
             "#8e0152"
            ],
            [
             0.1,
             "#c51b7d"
            ],
            [
             0.2,
             "#de77ae"
            ],
            [
             0.3,
             "#f1b6da"
            ],
            [
             0.4,
             "#fde0ef"
            ],
            [
             0.5,
             "#f7f7f7"
            ],
            [
             0.6,
             "#e6f5d0"
            ],
            [
             0.7,
             "#b8e186"
            ],
            [
             0.8,
             "#7fbc41"
            ],
            [
             0.9,
             "#4d9221"
            ],
            [
             1,
             "#276419"
            ]
           ],
           "sequential": [
            [
             0,
             "#0d0887"
            ],
            [
             0.1111111111111111,
             "#46039f"
            ],
            [
             0.2222222222222222,
             "#7201a8"
            ],
            [
             0.3333333333333333,
             "#9c179e"
            ],
            [
             0.4444444444444444,
             "#bd3786"
            ],
            [
             0.5555555555555556,
             "#d8576b"
            ],
            [
             0.6666666666666666,
             "#ed7953"
            ],
            [
             0.7777777777777778,
             "#fb9f3a"
            ],
            [
             0.8888888888888888,
             "#fdca26"
            ],
            [
             1,
             "#f0f921"
            ]
           ],
           "sequentialminus": [
            [
             0,
             "#0d0887"
            ],
            [
             0.1111111111111111,
             "#46039f"
            ],
            [
             0.2222222222222222,
             "#7201a8"
            ],
            [
             0.3333333333333333,
             "#9c179e"
            ],
            [
             0.4444444444444444,
             "#bd3786"
            ],
            [
             0.5555555555555556,
             "#d8576b"
            ],
            [
             0.6666666666666666,
             "#ed7953"
            ],
            [
             0.7777777777777778,
             "#fb9f3a"
            ],
            [
             0.8888888888888888,
             "#fdca26"
            ],
            [
             1,
             "#f0f921"
            ]
           ]
          },
          "colorway": [
           "#636efa",
           "#EF553B",
           "#00cc96",
           "#ab63fa",
           "#FFA15A",
           "#19d3f3",
           "#FF6692",
           "#B6E880",
           "#FF97FF",
           "#FECB52"
          ],
          "font": {
           "color": "#2a3f5f"
          },
          "geo": {
           "bgcolor": "white",
           "lakecolor": "white",
           "landcolor": "#E5ECF6",
           "showlakes": true,
           "showland": true,
           "subunitcolor": "white"
          },
          "hoverlabel": {
           "align": "left"
          },
          "hovermode": "closest",
          "mapbox": {
           "style": "light"
          },
          "paper_bgcolor": "white",
          "plot_bgcolor": "#E5ECF6",
          "polar": {
           "angularaxis": {
            "gridcolor": "white",
            "linecolor": "white",
            "ticks": ""
           },
           "bgcolor": "#E5ECF6",
           "radialaxis": {
            "gridcolor": "white",
            "linecolor": "white",
            "ticks": ""
           }
          },
          "scene": {
           "xaxis": {
            "backgroundcolor": "#E5ECF6",
            "gridcolor": "white",
            "gridwidth": 2,
            "linecolor": "white",
            "showbackground": true,
            "ticks": "",
            "zerolinecolor": "white"
           },
           "yaxis": {
            "backgroundcolor": "#E5ECF6",
            "gridcolor": "white",
            "gridwidth": 2,
            "linecolor": "white",
            "showbackground": true,
            "ticks": "",
            "zerolinecolor": "white"
           },
           "zaxis": {
            "backgroundcolor": "#E5ECF6",
            "gridcolor": "white",
            "gridwidth": 2,
            "linecolor": "white",
            "showbackground": true,
            "ticks": "",
            "zerolinecolor": "white"
           }
          },
          "shapedefaults": {
           "line": {
            "color": "#2a3f5f"
           }
          },
          "ternary": {
           "aaxis": {
            "gridcolor": "white",
            "linecolor": "white",
            "ticks": ""
           },
           "baxis": {
            "gridcolor": "white",
            "linecolor": "white",
            "ticks": ""
           },
           "bgcolor": "#E5ECF6",
           "caxis": {
            "gridcolor": "white",
            "linecolor": "white",
            "ticks": ""
           }
          },
          "title": {
           "x": 0.05
          },
          "xaxis": {
           "automargin": true,
           "gridcolor": "white",
           "linecolor": "white",
           "ticks": "",
           "title": {
            "standoff": 15
           },
           "zerolinecolor": "white",
           "zerolinewidth": 2
          },
          "yaxis": {
           "automargin": true,
           "gridcolor": "white",
           "linecolor": "white",
           "ticks": "",
           "title": {
            "standoff": 15
           },
           "zerolinecolor": "white",
           "zerolinewidth": 2
          }
         }
        },
        "width": 800,
        "xaxis": {
         "anchor": "y",
         "domain": [
          0,
          1
         ],
         "title": {
          "text": "Number of Merges"
         }
        },
        "yaxis": {
         "anchor": "x",
         "domain": [
          0,
          1
         ],
         "title": {
          "text": "Compression Ratio"
         }
        }
       }
      }
     },
     "metadata": {},
     "output_type": "display_data"
    }
   ],
   "source": [
    "tk.plot_compression_ratios()"
   ]
  },
  {
   "cell_type": "markdown",
   "metadata": {},
   "source": [
    "Even if we use some of the most advanced tokenizers, such as the __r50k_base__, we get a compression ratio of around 3.98.\n",
    "\n",
    "We can use different tokenizers. \n",
    "- o200k_base: Encoding for the newest GPT-4o-Mini model.\n",
    "- cl100k_base: Encoding model for newer OpenAI models such as GPT-4 and GPT-3.5-Turbo.\n",
    "- p50k_base: Encoding for Codex models, these models are used for code applications.\n",
    "- r50k_base: Older encoding for different versions of GPT-3.\n",
    "\n",
    "Reference: [tiktoken](https://github.com/openai/tiktoken)."
   ]
  },
  {
   "cell_type": "code",
   "execution_count": 28,
   "metadata": {},
   "outputs": [
    {
     "name": "stdout",
     "output_type": "stream",
     "text": [
      "Vocab size 50257\n",
      "Compression ratio 3.980369290573372\n"
     ]
    }
   ],
   "source": [
    "import tiktoken\n",
    "\n",
    "enc = tiktoken.get_encoding('r50k_base')\n",
    "\n",
    "print(\"Vocab size\", enc.n_vocab)\n",
    "print(\"Compression ratio\", len(bytes(data, encoding=\"utf-8\")) / len(enc.encode(data)))"
   ]
  },
  {
   "cell_type": "markdown",
   "metadata": {},
   "source": [
    "This also has nice special tokens that we will use later, such as `<|endoftext|>` token, which is the last token with token if 50256 for the __r50k_base__ encoder."
   ]
  },
  {
   "cell_type": "code",
   "execution_count": 39,
   "metadata": {},
   "outputs": [
    {
     "name": "stdout",
     "output_type": "stream",
     "text": [
      "[1169, 2068, 7586, 21831, 220, 50256, 18045, 625, 262, 16931, 3290]\n",
      "['the', ' quick', ' brown', ' fox', ' ', '<|endoftext|>', ' jumps', ' over', ' the', ' lazy', ' dog']\n"
     ]
    }
   ],
   "source": [
    "encoding = enc.encode(\"the quick brown fox <|endoftext|> jumps over the lazy dog\", allowed_special={'<|endoftext|>'})\n",
    "print(encoding)\n",
    "print([enc.decode([token]) for token in encoding])"
   ]
  },
  {
   "cell_type": "markdown",
   "metadata": {},
   "source": [
    "As you see here, the r50k tokenizer has a separate token for each work here in the sentence. This is what you can do when you have an enormous vocab size. \n",
    "\n",
    "This ends the tokenization tutorial. We will be using the tiktoken library from here on as it is has tokenizers trained by OpenAI on very large corpus of texts from various sources (and not just the Verdict :p) and has several optimizations baked in for quick inference. "
   ]
  }
 ],
 "metadata": {
  "kernelspec": {
   "display_name": "llms-from-scratch (3.12.0)",
   "language": "python",
   "name": "python3"
  },
  "language_info": {
   "codemirror_mode": {
    "name": "ipython",
    "version": 3
   },
   "file_extension": ".py",
   "mimetype": "text/x-python",
   "name": "python",
   "nbconvert_exporter": "python",
   "pygments_lexer": "ipython3",
   "version": "3.12.0"
  }
 },
 "nbformat": 4,
 "nbformat_minor": 2
}
